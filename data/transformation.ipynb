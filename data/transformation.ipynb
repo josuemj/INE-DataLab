{
 "cells": [
  {
   "cell_type": "code",
   "execution_count": 1,
   "id": "9ca7eb77",
   "metadata": {},
   "outputs": [],
   "source": [
    "import pandas as pd\n"
   ]
  },
  {
   "cell_type": "code",
   "execution_count": 2,
   "id": "85ac6af0",
   "metadata": {},
   "outputs": [],
   "source": [
    "divorcios = pd.read_csv(\"Divorcios por departamento.csv\")\n",
    "denuncias_dep = pd.read_csv(\"Número de denuncias de violencia intrafamiliar por departamento.csv\")\n",
    "denuncias_edad = pd.read_csv(\"Numero de denuncias de violencia intrafamiliar por grupos quinquenales de edad.csv\")\n",
    "denuncias_sexo = pd.read_csv(\"Numero de denuncias de violencia intrafamiliar por sexo de la victima.csv\")\n"
   ]
  },
  {
   "cell_type": "code",
   "execution_count": 3,
   "id": "3e6b4a93",
   "metadata": {},
   "outputs": [],
   "source": [
    "divorcios_largo = divorcios.melt(id_vars=[\"Año\"], var_name=\"Departamento\", value_name=\"Divorcios\")\n",
    "divorcios_largo[\"Divorcios\"] = divorcios_largo[\"Divorcios\"].astype(str).str.replace(\",\", \"\").fillna(\"0\").astype(int)\n"
   ]
  },
  {
   "cell_type": "code",
   "execution_count": 4,
   "id": "bf9be9df",
   "metadata": {},
   "outputs": [],
   "source": [
    "denuncias_dep_largo = denuncias_dep.melt(id_vars=[\"Año\"], var_name=\"Departamento\", value_name=\"Denuncias\")\n",
    "denuncias_dep_largo[\"Denuncias\"] = denuncias_dep_largo[\"Denuncias\"].astype(str).str.replace(\",\", \"\").fillna(\"0\").astype(int)\n"
   ]
  },
  {
   "cell_type": "code",
   "execution_count": 5,
   "id": "a8ca1b3d",
   "metadata": {},
   "outputs": [],
   "source": [
    "div_total = divorcios_largo.groupby(\"Departamento\")[\"Divorcios\"].sum().reset_index()\n",
    "den_total = denuncias_dep_largo.groupby(\"Departamento\")[\"Denuncias\"].sum().reset_index()\n"
   ]
  },
  {
   "cell_type": "code",
   "execution_count": 6,
   "id": "d9d28739",
   "metadata": {},
   "outputs": [],
   "source": [
    "sexo_total = denuncias_sexo.copy()\n",
    "sexo_total[\"Hombre\"] = sexo_total[\"Hombre\"].str.replace(\",\", \"\").astype(int)\n",
    "sexo_total[\"Mujer\"] = sexo_total[\"Mujer\"].str.replace(\",\", \"\").astype(int)\n",
    "sexo_total = sexo_total.groupby(\"Año\")[[\"Hombre\", \"Mujer\"]].sum().reset_index()\n",
    "sexo_prom = sexo_total[[\"Hombre\", \"Mujer\"]].mean().round().astype(int).to_frame().T\n"
   ]
  },
  {
   "cell_type": "code",
   "execution_count": 7,
   "id": "28a54fc0",
   "metadata": {},
   "outputs": [],
   "source": [
    "edad_total = denuncias_edad.drop(columns=[\"Total\", \"Ignorado\"])\n",
    "for col in edad_total.columns[1:]:\n",
    "    edad_total[col] = edad_total[col].astype(str).str.replace(\",\", \"\").fillna(\"0\").astype(int)\n",
    "edad_prom = edad_total.groupby(\"Año\").sum().mean().round().astype(int).to_frame().T\n"
   ]
  },
  {
   "cell_type": "code",
   "execution_count": 8,
   "id": "915c3550",
   "metadata": {},
   "outputs": [
    {
     "name": "stdout",
     "output_type": "stream",
     "text": [
      "Archivo guardado como DATASET_FINAL_DIVORCIOS.csv\n"
     ]
    }
   ],
   "source": [
    "X_df = div_total.merge(den_total, on=\"Departamento\")\n",
    "X_df[\"Sexo_Hombre\"] = sexo_prom[\"Hombre\"].values[0]\n",
    "X_df[\"Sexo_Mujer\"] = sexo_prom[\"Mujer\"].values[0]\n",
    "for col in edad_prom.columns:\n",
    "    X_df[f\"Edad_{col}\"] = edad_prom[col].values[0]\n",
    "\n",
    "X_df.to_csv(\"DATASET_FINAL_DIVORCIOS.csv\", index=False)\n",
    "print(\"Archivo guardado como DATASET_FINAL_DIVORCIOS.csv\")\n"
   ]
  }
 ],
 "metadata": {
  "kernelspec": {
   "display_name": "Python 3",
   "language": "python",
   "name": "python3"
  },
  "language_info": {
   "codemirror_mode": {
    "name": "ipython",
    "version": 3
   },
   "file_extension": ".py",
   "mimetype": "text/x-python",
   "name": "python",
   "nbconvert_exporter": "python",
   "pygments_lexer": "ipython3",
   "version": "3.13.0"
  }
 },
 "nbformat": 4,
 "nbformat_minor": 5
}
