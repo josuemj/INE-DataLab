{
 "cells": [
  {
   "cell_type": "code",
   "execution_count": 18,
   "id": "3c5ff725",
   "metadata": {},
   "outputs": [
    {
     "data": {
      "text/html": [
       "<div>\n",
       "<style scoped>\n",
       "    .dataframe tbody tr th:only-of-type {\n",
       "        vertical-align: middle;\n",
       "    }\n",
       "\n",
       "    .dataframe tbody tr th {\n",
       "        vertical-align: top;\n",
       "    }\n",
       "\n",
       "    .dataframe thead th {\n",
       "        text-align: right;\n",
       "    }\n",
       "</style>\n",
       "<table border=\"1\" class=\"dataframe\">\n",
       "  <thead>\n",
       "    <tr style=\"text-align: right;\">\n",
       "      <th></th>\n",
       "      <th>Departamento</th>\n",
       "      <th>Divorcios</th>\n",
       "      <th>Denuncias</th>\n",
       "      <th>Sexo_Hombre</th>\n",
       "      <th>Sexo_Mujer</th>\n",
       "      <th>0 a 4</th>\n",
       "      <th>5 a 9</th>\n",
       "      <th>10 a 14</th>\n",
       "      <th>15 a 19</th>\n",
       "      <th>20 a 24</th>\n",
       "      <th>25 a 29</th>\n",
       "      <th>30 a 34</th>\n",
       "      <th>35 a 39</th>\n",
       "      <th>40 a 44</th>\n",
       "      <th>45 a 49</th>\n",
       "      <th>50 a 54</th>\n",
       "      <th>55 a 59</th>\n",
       "      <th>60 a 64</th>\n",
       "      <th>65 y más</th>\n",
       "      <th>Ignorado_edad</th>\n",
       "    </tr>\n",
       "  </thead>\n",
       "  <tbody>\n",
       "    <tr>\n",
       "      <th>0</th>\n",
       "      <td>República</td>\n",
       "      <td>91,536</td>\n",
       "      <td>484,607</td>\n",
       "      <td>52,835</td>\n",
       "      <td>431,772</td>\n",
       "      <td>530</td>\n",
       "      <td>1,015</td>\n",
       "      <td>3,359</td>\n",
       "      <td>39,506</td>\n",
       "      <td>87,672</td>\n",
       "      <td>90,822</td>\n",
       "      <td>79,107</td>\n",
       "      <td>59,870</td>\n",
       "      <td>40,395</td>\n",
       "      <td>25,711</td>\n",
       "      <td>16,870</td>\n",
       "      <td>10,963</td>\n",
       "      <td>7,898</td>\n",
       "      <td>14,401</td>\n",
       "      <td>6,488</td>\n",
       "    </tr>\n",
       "    <tr>\n",
       "      <th>1</th>\n",
       "      <td>Guatemala</td>\n",
       "      <td>35,192</td>\n",
       "      <td>90,889</td>\n",
       "      <td>9,909</td>\n",
       "      <td>80,980</td>\n",
       "      <td>99</td>\n",
       "      <td>190</td>\n",
       "      <td>630</td>\n",
       "      <td>7,409</td>\n",
       "      <td>16,443</td>\n",
       "      <td>17,034</td>\n",
       "      <td>14,837</td>\n",
       "      <td>11,229</td>\n",
       "      <td>7,576</td>\n",
       "      <td>4,822</td>\n",
       "      <td>3,164</td>\n",
       "      <td>2,056</td>\n",
       "      <td>1,481</td>\n",
       "      <td>2,701</td>\n",
       "      <td>1,217</td>\n",
       "    </tr>\n",
       "    <tr>\n",
       "      <th>2</th>\n",
       "      <td>El Progreso</td>\n",
       "      <td>1,577</td>\n",
       "      <td>15,295</td>\n",
       "      <td>1,668</td>\n",
       "      <td>13,627</td>\n",
       "      <td>17</td>\n",
       "      <td>32</td>\n",
       "      <td>106</td>\n",
       "      <td>1,247</td>\n",
       "      <td>2,767</td>\n",
       "      <td>2,866</td>\n",
       "      <td>2,497</td>\n",
       "      <td>1,890</td>\n",
       "      <td>1,275</td>\n",
       "      <td>811</td>\n",
       "      <td>532</td>\n",
       "      <td>346</td>\n",
       "      <td>249</td>\n",
       "      <td>455</td>\n",
       "      <td>205</td>\n",
       "    </tr>\n",
       "    <tr>\n",
       "      <th>3</th>\n",
       "      <td>Sacatepéquez</td>\n",
       "      <td>1,968</td>\n",
       "      <td>22,713</td>\n",
       "      <td>2,476</td>\n",
       "      <td>20,237</td>\n",
       "      <td>25</td>\n",
       "      <td>48</td>\n",
       "      <td>157</td>\n",
       "      <td>1,852</td>\n",
       "      <td>4,109</td>\n",
       "      <td>4,257</td>\n",
       "      <td>3,708</td>\n",
       "      <td>2,806</td>\n",
       "      <td>1,893</td>\n",
       "      <td>1,205</td>\n",
       "      <td>791</td>\n",
       "      <td>514</td>\n",
       "      <td>370</td>\n",
       "      <td>675</td>\n",
       "      <td>304</td>\n",
       "    </tr>\n",
       "    <tr>\n",
       "      <th>4</th>\n",
       "      <td>Chimaltenango</td>\n",
       "      <td>1,801</td>\n",
       "      <td>26,664</td>\n",
       "      <td>2,907</td>\n",
       "      <td>23,757</td>\n",
       "      <td>29</td>\n",
       "      <td>56</td>\n",
       "      <td>185</td>\n",
       "      <td>2,174</td>\n",
       "      <td>4,824</td>\n",
       "      <td>4,997</td>\n",
       "      <td>4,353</td>\n",
       "      <td>3,294</td>\n",
       "      <td>2,223</td>\n",
       "      <td>1,415</td>\n",
       "      <td>928</td>\n",
       "      <td>603</td>\n",
       "      <td>435</td>\n",
       "      <td>792</td>\n",
       "      <td>357</td>\n",
       "    </tr>\n",
       "  </tbody>\n",
       "</table>\n",
       "</div>"
      ],
      "text/plain": [
       "    Departamento Divorcios Denuncias Sexo_Hombre Sexo_Mujer  0 a 4  5 a 9  \\\n",
       "0      República    91,536   484,607      52,835    431,772    530  1,015   \n",
       "1      Guatemala    35,192    90,889       9,909     80,980     99    190   \n",
       "2    El Progreso     1,577    15,295       1,668     13,627     17     32   \n",
       "3   Sacatepéquez     1,968    22,713       2,476     20,237     25     48   \n",
       "4  Chimaltenango     1,801    26,664       2,907     23,757     29     56   \n",
       "\n",
       "  10 a 14 15 a 19 20 a 24 25 a 29 30 a 34 35 a 39 40 a 44 45 a 49 50 a 54  \\\n",
       "0   3,359  39,506  87,672  90,822  79,107  59,870  40,395  25,711  16,870   \n",
       "1     630   7,409  16,443  17,034  14,837  11,229   7,576   4,822   3,164   \n",
       "2     106   1,247   2,767   2,866   2,497   1,890   1,275     811     532   \n",
       "3     157   1,852   4,109   4,257   3,708   2,806   1,893   1,205     791   \n",
       "4     185   2,174   4,824   4,997   4,353   3,294   2,223   1,415     928   \n",
       "\n",
       "  55 a 59 60 a 64 65 y más Ignorado_edad  \n",
       "0  10,963   7,898   14,401         6,488  \n",
       "1   2,056   1,481    2,701         1,217  \n",
       "2     346     249      455           205  \n",
       "3     514     370      675           304  \n",
       "4     603     435      792           357  "
      ]
     },
     "execution_count": 18,
     "metadata": {},
     "output_type": "execute_result"
    }
   ],
   "source": [
    "import pandas as pd\n",
    "import numpy as np\n",
    "import matplotlib.pyplot as plt\n",
    "import seaborn as sns\n",
    "\n",
    "from sklearn.preprocessing import LabelEncoder, StandardScaler\n",
    "from sklearn.model_selection import train_test_split, cross_val_score, StratifiedKFold\n",
    "from sklearn.svm import SVC\n",
    "from sklearn.metrics import classification_report, confusion_matrix, accuracy_score\n",
    "\n",
    "df = pd.read_csv('../../data/DATASET_FINAL_DIVORCIOS.csv')\n",
    "df.head()\n"
   ]
  },
  {
   "cell_type": "markdown",
   "id": "22b38804",
   "metadata": {},
   "source": [
    "# Limpieza de datos"
   ]
  },
  {
   "cell_type": "code",
   "execution_count": 19,
   "id": "6ce4ec05",
   "metadata": {},
   "outputs": [],
   "source": [
    "# Eliminar filas de totales nacionales si existen\n",
    "df = df[df['Departamento'] != 'República']\n",
    "\n",
    "# Reemplazar comas por nada y convertir a entero\n",
    "cols_numericas = df.columns.drop('Departamento')\n",
    "df[cols_numericas] = df[cols_numericas].replace(',', '', regex=True).astype(int)\n",
    "\n",
    "# Crear la variable objetivo: \"Categoria_Divorcios\"\n",
    "promedio_nacional = df['Denuncias'].mean()\n",
    "df['Categoria_Denuncias'] = df['Denuncias'].apply(\n",
    "    lambda x: 'alto' if x > promedio_nacional else ('bajo' if x < promedio_nacional else 'neutro')\n",
    ")"
   ]
  },
  {
   "cell_type": "code",
   "execution_count": 21,
   "id": "f16e2864",
   "metadata": {},
   "outputs": [
    {
     "data": {
      "text/plain": [
       "Categoria_Denuncias\n",
       "bajo    15\n",
       "alto     8\n",
       "Name: count, dtype: int64"
      ]
     },
     "execution_count": 21,
     "metadata": {},
     "output_type": "execute_result"
    }
   ],
   "source": [
    "# Verificar valores únicos\n",
    "df['Categoria_Denuncias'].value_counts()"
   ]
  },
  {
   "cell_type": "code",
   "execution_count": 22,
   "id": "f9673821",
   "metadata": {},
   "outputs": [
    {
     "data": {
      "text/html": [
       "<div>\n",
       "<style scoped>\n",
       "    .dataframe tbody tr th:only-of-type {\n",
       "        vertical-align: middle;\n",
       "    }\n",
       "\n",
       "    .dataframe tbody tr th {\n",
       "        vertical-align: top;\n",
       "    }\n",
       "\n",
       "    .dataframe thead th {\n",
       "        text-align: right;\n",
       "    }\n",
       "</style>\n",
       "<table border=\"1\" class=\"dataframe\">\n",
       "  <thead>\n",
       "    <tr style=\"text-align: right;\">\n",
       "      <th></th>\n",
       "      <th>Departamento</th>\n",
       "      <th>Divorcios</th>\n",
       "      <th>Denuncias</th>\n",
       "      <th>Sexo_Hombre</th>\n",
       "      <th>Sexo_Mujer</th>\n",
       "      <th>0 a 4</th>\n",
       "      <th>5 a 9</th>\n",
       "      <th>10 a 14</th>\n",
       "      <th>15 a 19</th>\n",
       "      <th>20 a 24</th>\n",
       "      <th>...</th>\n",
       "      <th>30 a 34</th>\n",
       "      <th>35 a 39</th>\n",
       "      <th>40 a 44</th>\n",
       "      <th>45 a 49</th>\n",
       "      <th>50 a 54</th>\n",
       "      <th>55 a 59</th>\n",
       "      <th>60 a 64</th>\n",
       "      <th>65 y más</th>\n",
       "      <th>Ignorado_edad</th>\n",
       "      <th>Categoria_Denuncias</th>\n",
       "    </tr>\n",
       "  </thead>\n",
       "  <tbody>\n",
       "    <tr>\n",
       "      <th>1</th>\n",
       "      <td>Guatemala</td>\n",
       "      <td>35192</td>\n",
       "      <td>90889</td>\n",
       "      <td>9909</td>\n",
       "      <td>80980</td>\n",
       "      <td>99</td>\n",
       "      <td>190</td>\n",
       "      <td>630</td>\n",
       "      <td>7409</td>\n",
       "      <td>16443</td>\n",
       "      <td>...</td>\n",
       "      <td>14837</td>\n",
       "      <td>11229</td>\n",
       "      <td>7576</td>\n",
       "      <td>4822</td>\n",
       "      <td>3164</td>\n",
       "      <td>2056</td>\n",
       "      <td>1481</td>\n",
       "      <td>2701</td>\n",
       "      <td>1217</td>\n",
       "      <td>alto</td>\n",
       "    </tr>\n",
       "    <tr>\n",
       "      <th>2</th>\n",
       "      <td>El Progreso</td>\n",
       "      <td>1577</td>\n",
       "      <td>15295</td>\n",
       "      <td>1668</td>\n",
       "      <td>13627</td>\n",
       "      <td>17</td>\n",
       "      <td>32</td>\n",
       "      <td>106</td>\n",
       "      <td>1247</td>\n",
       "      <td>2767</td>\n",
       "      <td>...</td>\n",
       "      <td>2497</td>\n",
       "      <td>1890</td>\n",
       "      <td>1275</td>\n",
       "      <td>811</td>\n",
       "      <td>532</td>\n",
       "      <td>346</td>\n",
       "      <td>249</td>\n",
       "      <td>455</td>\n",
       "      <td>205</td>\n",
       "      <td>bajo</td>\n",
       "    </tr>\n",
       "    <tr>\n",
       "      <th>3</th>\n",
       "      <td>Sacatepéquez</td>\n",
       "      <td>1968</td>\n",
       "      <td>22713</td>\n",
       "      <td>2476</td>\n",
       "      <td>20237</td>\n",
       "      <td>25</td>\n",
       "      <td>48</td>\n",
       "      <td>157</td>\n",
       "      <td>1852</td>\n",
       "      <td>4109</td>\n",
       "      <td>...</td>\n",
       "      <td>3708</td>\n",
       "      <td>2806</td>\n",
       "      <td>1893</td>\n",
       "      <td>1205</td>\n",
       "      <td>791</td>\n",
       "      <td>514</td>\n",
       "      <td>370</td>\n",
       "      <td>675</td>\n",
       "      <td>304</td>\n",
       "      <td>alto</td>\n",
       "    </tr>\n",
       "    <tr>\n",
       "      <th>4</th>\n",
       "      <td>Chimaltenango</td>\n",
       "      <td>1801</td>\n",
       "      <td>26664</td>\n",
       "      <td>2907</td>\n",
       "      <td>23757</td>\n",
       "      <td>29</td>\n",
       "      <td>56</td>\n",
       "      <td>185</td>\n",
       "      <td>2174</td>\n",
       "      <td>4824</td>\n",
       "      <td>...</td>\n",
       "      <td>4353</td>\n",
       "      <td>3294</td>\n",
       "      <td>2223</td>\n",
       "      <td>1415</td>\n",
       "      <td>928</td>\n",
       "      <td>603</td>\n",
       "      <td>435</td>\n",
       "      <td>792</td>\n",
       "      <td>357</td>\n",
       "      <td>alto</td>\n",
       "    </tr>\n",
       "    <tr>\n",
       "      <th>5</th>\n",
       "      <td>Escuintla</td>\n",
       "      <td>4131</td>\n",
       "      <td>15404</td>\n",
       "      <td>1679</td>\n",
       "      <td>13725</td>\n",
       "      <td>17</td>\n",
       "      <td>32</td>\n",
       "      <td>107</td>\n",
       "      <td>1256</td>\n",
       "      <td>2787</td>\n",
       "      <td>...</td>\n",
       "      <td>2515</td>\n",
       "      <td>1903</td>\n",
       "      <td>1284</td>\n",
       "      <td>817</td>\n",
       "      <td>536</td>\n",
       "      <td>348</td>\n",
       "      <td>251</td>\n",
       "      <td>458</td>\n",
       "      <td>206</td>\n",
       "      <td>bajo</td>\n",
       "    </tr>\n",
       "  </tbody>\n",
       "</table>\n",
       "<p>5 rows × 21 columns</p>\n",
       "</div>"
      ],
      "text/plain": [
       "    Departamento  Divorcios  Denuncias  Sexo_Hombre  Sexo_Mujer  0 a 4  5 a 9  \\\n",
       "1      Guatemala      35192      90889         9909       80980     99    190   \n",
       "2    El Progreso       1577      15295         1668       13627     17     32   \n",
       "3   Sacatepéquez       1968      22713         2476       20237     25     48   \n",
       "4  Chimaltenango       1801      26664         2907       23757     29     56   \n",
       "5      Escuintla       4131      15404         1679       13725     17     32   \n",
       "\n",
       "   10 a 14  15 a 19  20 a 24  ...  30 a 34  35 a 39  40 a 44  45 a 49  \\\n",
       "1      630     7409    16443  ...    14837    11229     7576     4822   \n",
       "2      106     1247     2767  ...     2497     1890     1275      811   \n",
       "3      157     1852     4109  ...     3708     2806     1893     1205   \n",
       "4      185     2174     4824  ...     4353     3294     2223     1415   \n",
       "5      107     1256     2787  ...     2515     1903     1284      817   \n",
       "\n",
       "   50 a 54  55 a 59  60 a 64  65 y más  Ignorado_edad  Categoria_Denuncias  \n",
       "1     3164     2056     1481      2701           1217                 alto  \n",
       "2      532      346      249       455            205                 bajo  \n",
       "3      791      514      370       675            304                 alto  \n",
       "4      928      603      435       792            357                 alto  \n",
       "5      536      348      251       458            206                 bajo  \n",
       "\n",
       "[5 rows x 21 columns]"
      ]
     },
     "execution_count": 22,
     "metadata": {},
     "output_type": "execute_result"
    }
   ],
   "source": [
    "df.head()"
   ]
  },
  {
   "cell_type": "markdown",
   "id": "14eb7579",
   "metadata": {},
   "source": [
    "# Visualizacion de datos"
   ]
  },
  {
   "cell_type": "code",
   "execution_count": 23,
   "id": "b6b091ac",
   "metadata": {},
   "outputs": [
    {
     "data": {
      "image/png": "[encoded data removed]",
      "text/plain": [
       "<Figure size 1200x1000 with 2 Axes>"
      ]
     },
     "metadata": {},
     "output_type": "display_data"
    }
   ],
   "source": [
    "# Visualización: Mapa de calor de correlaciones\n",
    "correlation_matrix = df[cols_numericas].corr()\n",
    "\n",
    "plt.figure(figsize=(12, 10))\n",
    "sns.heatmap(correlation_matrix, cmap='coolwarm', annot=False, linewidths=0.5)\n",
    "plt.title(\"Mapa de calor de correlaciones entre variables numéricas\")\n",
    "plt.show()"
   ]
  },
  {
   "cell_type": "markdown",
   "id": "82c12b0a",
   "metadata": {},
   "source": [
    "Este análisis revela una alta colinealidad entre los grupos etarios y otras variables poblacionales, lo cual es esperado"
   ]
  },
  {
   "cell_type": "markdown",
   "id": "2214e646",
   "metadata": {},
   "source": [
    "# Modelo SVM"
   ]
  },
  {
   "cell_type": "markdown",
   "id": "a27fed3d",
   "metadata": {},
   "source": [
    "## Buscar el mejor modelo"
   ]
  },
  {
   "cell_type": "code",
   "execution_count": 24,
   "id": "9273f727",
   "metadata": {},
   "outputs": [],
   "source": [
    "# Variables X e y\n",
    "X = df.drop(columns=['Departamento', 'Categoria_Denuncias', 'Denuncias'])  # No usamos Denuncias porque define la etiqueta\n",
    "y = df['Categoria_Denuncias']\n",
    "\n",
    "# Normalización\n",
    "scaler = StandardScaler()\n",
    "X_scaled = scaler.fit_transform(X)\n",
    "\n",
    "# Codificación de la clase\n",
    "le = LabelEncoder()\n",
    "y_encoded = le.fit_transform(y)\n",
    "\n",
    "X_train, X_test, y_train, y_test = train_test_split(X_scaled, y_encoded, test_size=0.3, random_state=42, stratify=y_encoded)\n"
   ]
  },
  {
   "cell_type": "code",
   "execution_count": 25,
   "id": "29c35930",
   "metadata": {},
   "outputs": [
    {
     "name": "stdout",
     "output_type": "stream",
     "text": [
      "Mejor modelo LINEAR:\n",
      "Parámetros: {'C': 1, 'decision_function_shape': 'ovo', 'degree': 2, 'gamma': 'auto', 'kernel': 'linear'}\n",
      "Accuracy promedio: 1.0\n",
      "\n",
      "Mejor modelo RBF:\n",
      "Parámetros: {'C': 5, 'decision_function_shape': 'ovr', 'degree': 3, 'gamma': 'auto', 'kernel': 'rbf'}\n",
      "Accuracy promedio: 1.0\n",
      "\n",
      "Mejor modelo POLY:\n",
      "Parámetros: {'C': 0.01, 'decision_function_shape': 'ovo', 'degree': 3, 'gamma': 'scale', 'kernel': 'poly'}\n",
      "Accuracy promedio: 0.7333333333333332\n"
     ]
    }
   ],
   "source": [
    "from sklearn.model_selection import GridSearchCV\n",
    "\n",
    "modelo = SVC()\n",
    "param_grid = {\n",
    "    'kernel': ['linear', 'rbf', 'poly'],\n",
    "    'C': [0.01, 0.1, 1, 5, 16, 32],\n",
    "    'gamma': ['scale', 'auto'],  \n",
    "    'degree': [2, 3, 4],          \n",
    "    'decision_function_shape': ['ovo', 'ovr']\n",
    "}\n",
    "\n",
    "grid_search = GridSearchCV(\n",
    "    estimator=modelo,\n",
    "    param_grid=param_grid,\n",
    "    cv=5,\n",
    "    n_jobs=-1\n",
    ")\n",
    "\n",
    "grid_search.fit(X_train, y_train)\n",
    "\n",
    "best_accuracy = grid_search.score(X_test, y_test)\n",
    "best_params = grid_search.best_params_\n",
    "\n",
    "cv_results = pd.DataFrame(grid_search.cv_results_)\n",
    "cv_results_sorted = cv_results.sort_values(\"mean_test_score\", ascending=False)\n",
    "\n",
    "mejor_linear = cv_results_sorted[cv_results_sorted['param_kernel'] == 'linear'].iloc[0]\n",
    "mejor_rbf = cv_results_sorted[cv_results_sorted['param_kernel'] == 'rbf'].iloc[0]\n",
    "mejor_poly = cv_results_sorted[cv_results_sorted['param_kernel'] == 'poly'].iloc[0]\n",
    "\n",
    "print(\"Mejor modelo LINEAR:\")\n",
    "print(\"Parámetros:\", mejor_linear['params'])\n",
    "print(\"Accuracy promedio:\", mejor_linear['mean_test_score'])\n",
    "\n",
    "print(\"\\nMejor modelo RBF:\")\n",
    "print(\"Parámetros:\", mejor_rbf['params'])\n",
    "print(\"Accuracy promedio:\", mejor_rbf['mean_test_score'])\n",
    "\n",
    "print(\"\\nMejor modelo POLY:\")\n",
    "print(\"Parámetros:\", mejor_poly['params'])\n",
    "print(\"Accuracy promedio:\", mejor_poly['mean_test_score'])"
   ]
  },
  {
   "cell_type": "markdown",
   "id": "d0ed6c93",
   "metadata": {},
   "source": [
    "## Modelo Linear con parametros dados\n"
   ]
  },
  {
   "cell_type": "code",
   "execution_count": 26,
   "id": "4155c06c",
   "metadata": {},
   "outputs": [],
   "source": [
    "svm_model = SVC(\n",
    "    kernel='linear',\n",
    "    C=1,\n",
    "    gamma='auto',\n",
    "    degree=2,\n",
    "    decision_function_shape='ovo',\n",
    "    class_weight='balanced'\n",
    ")\n"
   ]
  },
  {
   "cell_type": "markdown",
   "id": "beeec001",
   "metadata": {},
   "source": [
    "### Entrenamiento con validacion cruzada"
   ]
  },
  {
   "cell_type": "code",
   "execution_count": 27,
   "id": "68f332b2",
   "metadata": {},
   "outputs": [
    {
     "name": "stdout",
     "output_type": "stream",
     "text": [
      "Accuracies por fold: [1.  1.  0.8 1.  1. ]\n",
      "Promedio: 0.96\n",
      "Desviación estándar: 0.07999999999999999\n"
     ]
    }
   ],
   "source": [
    "# Validación cruzada estratificada 5-fold\n",
    "cv = StratifiedKFold(n_splits=5, shuffle=True, random_state=42)\n",
    "scores = cross_val_score(svm_model, X_scaled, y_encoded, cv=cv, scoring='accuracy')\n",
    "\n",
    "# Promedio y desviación estándar\n",
    "scores_mean = np.mean(scores)\n",
    "scores_std = np.std(scores)\n",
    "\n",
    "print(\"Accuracies por fold:\", scores)\n",
    "print(\"Promedio:\", scores_mean)\n",
    "print(\"Desviación estándar:\", scores_std)"
   ]
  },
  {
   "cell_type": "markdown",
   "id": "76a643e7",
   "metadata": {},
   "source": [
    "### Evaluacion de modelo con matriz de confusion"
   ]
  },
  {
   "cell_type": "code",
   "execution_count": 28,
   "id": "7ce8aecd",
   "metadata": {},
   "outputs": [
    {
     "name": "stdout",
     "output_type": "stream",
     "text": [
      "Accuracy: 1.0\n",
      "Reporte de clasificación:\n",
      "               precision    recall  f1-score   support\n",
      "\n",
      "        alto       1.00      1.00      1.00         2\n",
      "        bajo       1.00      1.00      1.00         5\n",
      "\n",
      "    accuracy                           1.00         7\n",
      "   macro avg       1.00      1.00      1.00         7\n",
      "weighted avg       1.00      1.00      1.00         7\n",
      "\n"
     ]
    },
    {
     "data": {
      "image/png": "[encoded data removed]",
      "text/plain": [
       "<Figure size 600x400 with 2 Axes>"
      ]
     },
     "metadata": {},
     "output_type": "display_data"
    }
   ],
   "source": [
    "svm_model.fit(X_train, y_train)\n",
    "\n",
    "# Predicción y métricas\n",
    "y_pred = svm_model.predict(X_test)\n",
    "conf_matrix = confusion_matrix(y_test, y_pred)\n",
    "report = classification_report(y_test, y_pred, target_names=le.classes_)\n",
    "accuracy = accuracy_score(y_test, y_pred)\n",
    "\n",
    "print(\"Accuracy:\", accuracy)\n",
    "print(\"Reporte de clasificación:\\n\", report)\n",
    "\n",
    "# Visualización de la matriz de confusión\n",
    "plt.figure(figsize=(6, 4))\n",
    "sns.heatmap(conf_matrix, annot=True, fmt=\"d\", cmap=\"Blues\", \n",
    "            xticklabels=le.classes_, yticklabels=le.classes_)\n",
    "\n",
    "plt.xlabel(\"Predicción\")\n",
    "plt.ylabel(\"Valor real\")\n",
    "plt.title(\"Matriz de Confusión - SVM - Lineal\")\n",
    "plt.tight_layout()\n",
    "plt.show()\n"
   ]
  },
  {
   "cell_type": "markdown",
   "id": "885b26a2",
   "metadata": {},
   "source": [
    "## Modelo gaussiano con parametros dados"
   ]
  },
  {
   "cell_type": "code",
   "execution_count": 29,
   "id": "a3b61dc3",
   "metadata": {},
   "outputs": [],
   "source": [
    "svm_model_rbf = SVC(\n",
    "    kernel='rbf',\n",
    "    C=5,\n",
    "    gamma='auto',\n",
    "    degree=3,\n",
    "    decision_function_shape='ovr',\n",
    "    class_weight='balanced'\n",
    ")\n"
   ]
  },
  {
   "cell_type": "markdown",
   "id": "d448a385",
   "metadata": {},
   "source": [
    "### Entrenamiento con validacion cruzada"
   ]
  },
  {
   "cell_type": "code",
   "execution_count": 30,
   "id": "37efdc44",
   "metadata": {},
   "outputs": [
    {
     "name": "stdout",
     "output_type": "stream",
     "text": [
      "Accuracies por fold: [1. 1. 1. 1. 1.]\n",
      "Promedio: 1.0\n",
      "Desviación estándar: 0.0\n"
     ]
    }
   ],
   "source": [
    "# Validación cruzada estratificada 5-fold\n",
    "cv = StratifiedKFold(n_splits=5, shuffle=True, random_state=42)\n",
    "scores = cross_val_score(svm_model_rbf, X_scaled, y_encoded, cv=cv, scoring='accuracy')\n",
    "\n",
    "# Promedio y desviación estándar\n",
    "scores_mean = np.mean(scores)\n",
    "scores_std = np.std(scores)\n",
    "\n",
    "print(\"Accuracies por fold:\", scores)\n",
    "print(\"Promedio:\", scores_mean)\n",
    "print(\"Desviación estándar:\", scores_std)"
   ]
  },
  {
   "cell_type": "markdown",
   "id": "0affb00e",
   "metadata": {},
   "source": [
    "### Evaluacion de modelo con matriz de confusion"
   ]
  },
  {
   "cell_type": "code",
   "execution_count": 31,
   "id": "c180f442",
   "metadata": {},
   "outputs": [
    {
     "name": "stdout",
     "output_type": "stream",
     "text": [
      "Accuracy: 1.0\n",
      "Reporte de clasificación:\n",
      "               precision    recall  f1-score   support\n",
      "\n",
      "        alto       1.00      1.00      1.00         2\n",
      "        bajo       1.00      1.00      1.00         5\n",
      "\n",
      "    accuracy                           1.00         7\n",
      "   macro avg       1.00      1.00      1.00         7\n",
      "weighted avg       1.00      1.00      1.00         7\n",
      "\n"
     ]
    },
    {
     "data": {
      "image/png": "[encoded data removed]",
      "text/plain": [
       "<Figure size 600x400 with 2 Axes>"
      ]
     },
     "metadata": {},
     "output_type": "display_data"
    }
   ],
   "source": [
    "svm_model_rbf.fit(X_train, y_train)\n",
    "\n",
    "# Predicción y métricas\n",
    "y_pred = svm_model_rbf.predict(X_test)\n",
    "conf_matrix = confusion_matrix(y_test, y_pred)\n",
    "report = classification_report(y_test, y_pred, target_names=le.classes_)\n",
    "accuracy = accuracy_score(y_test, y_pred)\n",
    "\n",
    "print(\"Accuracy:\", accuracy)\n",
    "print(\"Reporte de clasificación:\\n\", report)\n",
    "\n",
    "# Visualización de la matriz de confusión\n",
    "plt.figure(figsize=(6, 4))\n",
    "sns.heatmap(conf_matrix, annot=True, fmt=\"d\", cmap=\"Blues\", \n",
    "            xticklabels=le.classes_, yticklabels=le.classes_)\n",
    "\n",
    "plt.xlabel(\"Predicción\")\n",
    "plt.ylabel(\"Valor real\")\n",
    "plt.title(\"Matriz de Confusión - SVM - Gaussiano\")\n",
    "plt.tight_layout()\n",
    "plt.show()\n"
   ]
  },
  {
   "cell_type": "markdown",
   "id": "3dd86c70",
   "metadata": {},
   "source": [
    "## Modelo Polinomial con parametros dados"
   ]
  },
  {
   "cell_type": "code",
   "execution_count": 32,
   "id": "910aa96b",
   "metadata": {},
   "outputs": [],
   "source": [
    "svm_model_poly = SVC(\n",
    "    kernel='poly',\n",
    "    C=0.01,\n",
    "    gamma='scale',\n",
    "    degree=3,\n",
    "    decision_function_shape='ovo',\n",
    "    class_weight='balanced'\n",
    ")\n"
   ]
  },
  {
   "cell_type": "markdown",
   "id": "1a8e9ba2",
   "metadata": {},
   "source": [
    "### Entrenamiento con validacion cruzada"
   ]
  },
  {
   "cell_type": "code",
   "execution_count": 33,
   "id": "3fa02501",
   "metadata": {},
   "outputs": [
    {
     "name": "stdout",
     "output_type": "stream",
     "text": [
      "Accuracies por fold: [0.8  0.6  0.6  0.75 0.75]\n",
      "Promedio: 0.7\n",
      "Desviación estándar: 0.08366600265340757\n"
     ]
    }
   ],
   "source": [
    "# Validación cruzada estratificada 5-fold\n",
    "cv = StratifiedKFold(n_splits=5, shuffle=True, random_state=42)\n",
    "scores = cross_val_score(svm_model_poly, X_scaled, y_encoded, cv=cv, scoring='accuracy')\n",
    "\n",
    "# Promedio y desviación estándar\n",
    "scores_mean = np.mean(scores)\n",
    "scores_std = np.std(scores)\n",
    "\n",
    "print(\"Accuracies por fold:\", scores)\n",
    "print(\"Promedio:\", scores_mean)\n",
    "print(\"Desviación estándar:\", scores_std)"
   ]
  },
  {
   "cell_type": "markdown",
   "id": "61728d1f",
   "metadata": {},
   "source": [
    "### Evaluacion de modelo con matriz de confusion"
   ]
  },
  {
   "cell_type": "code",
   "execution_count": 34,
   "id": "04d16468",
   "metadata": {},
   "outputs": [
    {
     "name": "stderr",
     "output_type": "stream",
     "text": [
      "c:\\Users\\thiag\\AppData\\Local\\Programs\\Python\\Python313\\Lib\\site-packages\\sklearn\\metrics\\_classification.py:1565: UndefinedMetricWarning: Precision is ill-defined and being set to 0.0 in labels with no predicted samples. Use `zero_division` parameter to control this behavior.\n",
      "  _warn_prf(average, modifier, f\"{metric.capitalize()} is\", len(result))\n",
      "c:\\Users\\thiag\\AppData\\Local\\Programs\\Python\\Python313\\Lib\\site-packages\\sklearn\\metrics\\_classification.py:1565: UndefinedMetricWarning: Precision is ill-defined and being set to 0.0 in labels with no predicted samples. Use `zero_division` parameter to control this behavior.\n",
      "  _warn_prf(average, modifier, f\"{metric.capitalize()} is\", len(result))\n",
      "c:\\Users\\thiag\\AppData\\Local\\Programs\\Python\\Python313\\Lib\\site-packages\\sklearn\\metrics\\_classification.py:1565: UndefinedMetricWarning: Precision is ill-defined and being set to 0.0 in labels with no predicted samples. Use `zero_division` parameter to control this behavior.\n",
      "  _warn_prf(average, modifier, f\"{metric.capitalize()} is\", len(result))\n"
     ]
    },
    {
     "name": "stdout",
     "output_type": "stream",
     "text": [
      "Accuracy: 0.7142857142857143\n",
      "Reporte de clasificación:\n",
      "               precision    recall  f1-score   support\n",
      "\n",
      "        alto       0.00      0.00      0.00         2\n",
      "        bajo       0.71      1.00      0.83         5\n",
      "\n",
      "    accuracy                           0.71         7\n",
      "   macro avg       0.36      0.50      0.42         7\n",
      "weighted avg       0.51      0.71      0.60         7\n",
      "\n"
     ]
    },
    {
     "data": {
      "image/png": "[encoded data removed]",
      "text/plain": [
       "<Figure size 600x400 with 2 Axes>"
      ]
     },
     "metadata": {},
     "output_type": "display_data"
    }
   ],
   "source": [
    "svm_model_poly.fit(X_train, y_train)\n",
    "\n",
    "# Predicción y métricas\n",
    "y_pred = svm_model_poly.predict(X_test)\n",
    "conf_matrix = confusion_matrix(y_test, y_pred)\n",
    "report = classification_report(y_test, y_pred, target_names=le.classes_)\n",
    "accuracy = accuracy_score(y_test, y_pred)\n",
    "\n",
    "print(\"Accuracy:\", accuracy)\n",
    "print(\"Reporte de clasificación:\\n\", report)\n",
    "\n",
    "# Visualización de la matriz de confusión\n",
    "plt.figure(figsize=(6, 4))\n",
    "sns.heatmap(conf_matrix, annot=True, fmt=\"d\", cmap=\"Blues\", \n",
    "            xticklabels=le.classes_, yticklabels=le.classes_)\n",
    "\n",
    "plt.xlabel(\"Predicción\")\n",
    "plt.ylabel(\"Valor real\")\n",
    "plt.title(\"Matriz de Confusión - SVM - Polinomial\")\n",
    "plt.tight_layout()\n",
    "plt.show()\n"
   ]
  },
  {
   "cell_type": "markdown",
   "id": "1b95abc3",
   "metadata": {},
   "source": [
    "# Analisis de resultados"
   ]
  },
  {
   "cell_type": "markdown",
   "id": "38337fdb",
   "metadata": {},
   "source": [
    "#### SVM Lineal\n",
    "- Clasifica correctamente todos los casos.\n",
    "- Tiene 100% de precisión y recall en ambas clases.\n",
    "- Muestra que una frontera lineal es suficiente para separar los datos en este caso.\n",
    "\n",
    "#### SVM RBF (Gaussiano)\n",
    "- Igual que el lineal, logra perfecta separación entre las clases.\n",
    "- También alcanza 100% en todas las métricas.\n",
    "\n",
    "#### SVM Polinomial\n",
    "- Falla completamente en clasificar la clase \"alto\" (100% de falsos negativos).\n",
    "- Aunque clasifica todos los casos de \"bajo\" correctamente, tiene un desempeño sesgado y pobre en clasificación general (accuracy de 71%)."
   ]
  },
  {
   "cell_type": "markdown",
   "id": "fa084738",
   "metadata": {},
   "source": [
    "# Conclusiones"
   ]
  },
  {
   "cell_type": "markdown",
   "id": "7a6a41b0",
   "metadata": {},
   "source": [
    "- SVM Lineal y RBF son igualmente efectivos y excelentes para este conjunto de datos en su estado actual. Ambos logran separación perfecta.\n",
    "- SVM Polinomial es una mala elección aquí: sobreajusta o define una frontera no adecuada, lo que causa pérdida total en la clase minoritaria.\n",
    "- Esto sugiere que los datos tienen una separabilidad sencilla, y un modelo más complejo como el polinomial empeora el rendimiento."
   ]
  }
 ],
 "metadata": {
  "kernelspec": {
   "display_name": "Python 3",
   "language": "python",
   "name": "python3"
  },
  "language_info": {
   "codemirror_mode": {
    "name": "ipython",
    "version": 3
   },
   "file_extension": ".py",
   "mimetype": "text/x-python",
   "name": "python",
   "nbconvert_exporter": "python",
   "pygments_lexer": "ipython3",
   "version": "3.13.0"
  }
 },
 "nbformat": 4,
 "nbformat_minor": 5
}
