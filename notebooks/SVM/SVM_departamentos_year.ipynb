{
 "cells": [
  {
   "cell_type": "code",
   "execution_count": 29,
   "id": "3c5ff725",
   "metadata": {},
   "outputs": [
    {
     "data": {
      "text/html": [
       "<div>\n",
       "<style scoped>\n",
       "    .dataframe tbody tr th:only-of-type {\n",
       "        vertical-align: middle;\n",
       "    }\n",
       "\n",
       "    .dataframe tbody tr th {\n",
       "        vertical-align: top;\n",
       "    }\n",
       "\n",
       "    .dataframe thead th {\n",
       "        text-align: right;\n",
       "    }\n",
       "</style>\n",
       "<table border=\"1\" class=\"dataframe\">\n",
       "  <thead>\n",
       "    <tr style=\"text-align: right;\">\n",
       "      <th></th>\n",
       "      <th>Departamento</th>\n",
       "      <th>año</th>\n",
       "      <th>Denuncias</th>\n",
       "      <th>Divorcios</th>\n",
       "      <th>Sexo_hombre</th>\n",
       "      <th>Sexo_mujer</th>\n",
       "      <th>0  a  4</th>\n",
       "      <th>5  a  9</th>\n",
       "      <th>10 a 14</th>\n",
       "      <th>15 a 19</th>\n",
       "      <th>...</th>\n",
       "      <th>25 a 29</th>\n",
       "      <th>30 a 34</th>\n",
       "      <th>35 a 39</th>\n",
       "      <th>40 a 44</th>\n",
       "      <th>45 a 49</th>\n",
       "      <th>50 a 54</th>\n",
       "      <th>55 a 59</th>\n",
       "      <th>60 a 64</th>\n",
       "      <th>65 y más</th>\n",
       "      <th>Ignorado_edad</th>\n",
       "    </tr>\n",
       "  </thead>\n",
       "  <tbody>\n",
       "    <tr>\n",
       "      <th>0</th>\n",
       "      <td>Guatemala</td>\n",
       "      <td>2008</td>\n",
       "      <td>5,117</td>\n",
       "      <td>1,052</td>\n",
       "      <td>494</td>\n",
       "      <td>4,623</td>\n",
       "      <td>3</td>\n",
       "      <td>9</td>\n",
       "      <td>28</td>\n",
       "      <td>353</td>\n",
       "      <td>...</td>\n",
       "      <td>752</td>\n",
       "      <td>629</td>\n",
       "      <td>445</td>\n",
       "      <td>308</td>\n",
       "      <td>191</td>\n",
       "      <td>127</td>\n",
       "      <td>73</td>\n",
       "      <td>46</td>\n",
       "      <td>78</td>\n",
       "      <td>52</td>\n",
       "    </tr>\n",
       "    <tr>\n",
       "      <th>1</th>\n",
       "      <td>Guatemala</td>\n",
       "      <td>2009</td>\n",
       "      <td>6,692</td>\n",
       "      <td>1,140</td>\n",
       "      <td>634</td>\n",
       "      <td>6,058</td>\n",
       "      <td>6</td>\n",
       "      <td>9</td>\n",
       "      <td>44</td>\n",
       "      <td>549</td>\n",
       "      <td>...</td>\n",
       "      <td>1,237</td>\n",
       "      <td>1,030</td>\n",
       "      <td>763</td>\n",
       "      <td>494</td>\n",
       "      <td>336</td>\n",
       "      <td>208</td>\n",
       "      <td>124</td>\n",
       "      <td>84</td>\n",
       "      <td>151</td>\n",
       "      <td>70</td>\n",
       "    </tr>\n",
       "    <tr>\n",
       "      <th>2</th>\n",
       "      <td>Guatemala</td>\n",
       "      <td>2010</td>\n",
       "      <td>5,792</td>\n",
       "      <td>1,561</td>\n",
       "      <td>517</td>\n",
       "      <td>5,275</td>\n",
       "      <td>6</td>\n",
       "      <td>9</td>\n",
       "      <td>36</td>\n",
       "      <td>478</td>\n",
       "      <td>...</td>\n",
       "      <td>992</td>\n",
       "      <td>873</td>\n",
       "      <td>614</td>\n",
       "      <td>402</td>\n",
       "      <td>267</td>\n",
       "      <td>161</td>\n",
       "      <td>98</td>\n",
       "      <td>68</td>\n",
       "      <td>121</td>\n",
       "      <td>53</td>\n",
       "    </tr>\n",
       "    <tr>\n",
       "      <th>3</th>\n",
       "      <td>Guatemala</td>\n",
       "      <td>2011</td>\n",
       "      <td>6,122</td>\n",
       "      <td>1,798</td>\n",
       "      <td>531</td>\n",
       "      <td>5,591</td>\n",
       "      <td>6</td>\n",
       "      <td>8</td>\n",
       "      <td>38</td>\n",
       "      <td>520</td>\n",
       "      <td>...</td>\n",
       "      <td>1,060</td>\n",
       "      <td>948</td>\n",
       "      <td>698</td>\n",
       "      <td>440</td>\n",
       "      <td>299</td>\n",
       "      <td>189</td>\n",
       "      <td>114</td>\n",
       "      <td>80</td>\n",
       "      <td>143</td>\n",
       "      <td>74</td>\n",
       "    </tr>\n",
       "    <tr>\n",
       "      <th>4</th>\n",
       "      <td>Guatemala</td>\n",
       "      <td>2012</td>\n",
       "      <td>6,911</td>\n",
       "      <td>2,152</td>\n",
       "      <td>568</td>\n",
       "      <td>6,343</td>\n",
       "      <td>4</td>\n",
       "      <td>16</td>\n",
       "      <td>49</td>\n",
       "      <td>679</td>\n",
       "      <td>...</td>\n",
       "      <td>1,374</td>\n",
       "      <td>1,224</td>\n",
       "      <td>886</td>\n",
       "      <td>563</td>\n",
       "      <td>357</td>\n",
       "      <td>236</td>\n",
       "      <td>141</td>\n",
       "      <td>97</td>\n",
       "      <td>177</td>\n",
       "      <td>93</td>\n",
       "    </tr>\n",
       "  </tbody>\n",
       "</table>\n",
       "<p>5 rows × 21 columns</p>\n",
       "</div>"
      ],
      "text/plain": [
       "  Departamento   año Denuncias Divorcios Sexo_hombre Sexo_mujer   0  a  4  \\\n",
       "0    Guatemala  2008     5,117     1,052         494      4,623         3   \n",
       "1    Guatemala  2009     6,692     1,140         634      6,058         6   \n",
       "2    Guatemala  2010     5,792     1,561         517      5,275         6   \n",
       "3    Guatemala  2011     6,122     1,798         531      5,591         6   \n",
       "4    Guatemala  2012     6,911     2,152         568      6,343         4   \n",
       "\n",
       "    5  a  9  10 a 14 15 a 19  ... 25 a 29 30 a 34 35 a 39 40 a 44 45 a 49  \\\n",
       "0         9       28     353  ...     752     629     445     308     191   \n",
       "1         9       44     549  ...   1,237   1,030     763     494     336   \n",
       "2         9       36     478  ...     992     873     614     402     267   \n",
       "3         8       38     520  ...   1,060     948     698     440     299   \n",
       "4        16       49     679  ...   1,374   1,224     886     563     357   \n",
       "\n",
       "  50 a 54 55 a 59 60 a 64  65 y más Ignorado_edad  \n",
       "0     127      73      46        78            52  \n",
       "1     208     124      84       151            70  \n",
       "2     161      98      68       121            53  \n",
       "3     189     114      80       143            74  \n",
       "4     236     141      97       177            93  \n",
       "\n",
       "[5 rows x 21 columns]"
      ]
     },
     "execution_count": 29,
     "metadata": {},
     "output_type": "execute_result"
    }
   ],
   "source": [
    "import pandas as pd\n",
    "import numpy as np\n",
    "import matplotlib.pyplot as plt\n",
    "import seaborn as sns\n",
    "\n",
    "from sklearn.preprocessing import LabelEncoder, StandardScaler\n",
    "from sklearn.model_selection import train_test_split, cross_val_score, StratifiedKFold\n",
    "from sklearn.svm import SVC\n",
    "from sklearn.metrics import classification_report, confusion_matrix, accuracy_score\n",
    "\n",
    "df = pd.read_csv('../../data/Final_divorcio_denuncia.csv')\n",
    "df.head()\n"
   ]
  },
  {
   "cell_type": "markdown",
   "id": "22b38804",
   "metadata": {},
   "source": [
    "# Limpieza de datos"
   ]
  },
  {
   "cell_type": "code",
   "execution_count": 30,
   "id": "6ce4ec05",
   "metadata": {},
   "outputs": [],
   "source": [
    "# Eliminar filas de totales nacionales si existen\n",
    "df = df[df['Departamento'] != 'República']\n",
    "\n",
    "# Reemplazar comas por nada y convertir a entero\n",
    "cols_numericas = df.columns.drop('Departamento')\n",
    "df[cols_numericas] = df[cols_numericas].replace(',', '', regex=True).astype(int)\n",
    "\n",
    "# Crear la variable objetivo: \"Categoria_Divorcios\"\n",
    "promedio_nacional = df['Divorcios'].mean()\n",
    "df['Categoria_Divorcios'] = df['Divorcios'].apply(\n",
    "    lambda x: 'alto' if x > promedio_nacional else ('bajo' if x < promedio_nacional else 'neutro')\n",
    ")"
   ]
  },
  {
   "cell_type": "code",
   "execution_count": 31,
   "id": "f16e2864",
   "metadata": {},
   "outputs": [
    {
     "data": {
      "text/plain": [
       "Categoria_Divorcios\n",
       "bajo    322\n",
       "alto     38\n",
       "Name: count, dtype: int64"
      ]
     },
     "execution_count": 31,
     "metadata": {},
     "output_type": "execute_result"
    }
   ],
   "source": [
    "# Verificar valores únicos\n",
    "df['Categoria_Divorcios'].value_counts()"
   ]
  },
  {
   "cell_type": "code",
   "execution_count": 32,
   "id": "f9673821",
   "metadata": {},
   "outputs": [
    {
     "data": {
      "text/html": [
       "<div>\n",
       "<style scoped>\n",
       "    .dataframe tbody tr th:only-of-type {\n",
       "        vertical-align: middle;\n",
       "    }\n",
       "\n",
       "    .dataframe tbody tr th {\n",
       "        vertical-align: top;\n",
       "    }\n",
       "\n",
       "    .dataframe thead th {\n",
       "        text-align: right;\n",
       "    }\n",
       "</style>\n",
       "<table border=\"1\" class=\"dataframe\">\n",
       "  <thead>\n",
       "    <tr style=\"text-align: right;\">\n",
       "      <th></th>\n",
       "      <th>Departamento</th>\n",
       "      <th>año</th>\n",
       "      <th>Denuncias</th>\n",
       "      <th>Divorcios</th>\n",
       "      <th>Sexo_hombre</th>\n",
       "      <th>Sexo_mujer</th>\n",
       "      <th>0  a  4</th>\n",
       "      <th>5  a  9</th>\n",
       "      <th>10 a 14</th>\n",
       "      <th>15 a 19</th>\n",
       "      <th>...</th>\n",
       "      <th>30 a 34</th>\n",
       "      <th>35 a 39</th>\n",
       "      <th>40 a 44</th>\n",
       "      <th>45 a 49</th>\n",
       "      <th>50 a 54</th>\n",
       "      <th>55 a 59</th>\n",
       "      <th>60 a 64</th>\n",
       "      <th>65 y más</th>\n",
       "      <th>Ignorado_edad</th>\n",
       "      <th>Categoria_Divorcios</th>\n",
       "    </tr>\n",
       "  </thead>\n",
       "  <tbody>\n",
       "    <tr>\n",
       "      <th>0</th>\n",
       "      <td>Guatemala</td>\n",
       "      <td>2008</td>\n",
       "      <td>5117</td>\n",
       "      <td>1052</td>\n",
       "      <td>494</td>\n",
       "      <td>4623</td>\n",
       "      <td>3</td>\n",
       "      <td>9</td>\n",
       "      <td>28</td>\n",
       "      <td>353</td>\n",
       "      <td>...</td>\n",
       "      <td>629</td>\n",
       "      <td>445</td>\n",
       "      <td>308</td>\n",
       "      <td>191</td>\n",
       "      <td>127</td>\n",
       "      <td>73</td>\n",
       "      <td>46</td>\n",
       "      <td>78</td>\n",
       "      <td>52</td>\n",
       "      <td>alto</td>\n",
       "    </tr>\n",
       "    <tr>\n",
       "      <th>1</th>\n",
       "      <td>Guatemala</td>\n",
       "      <td>2009</td>\n",
       "      <td>6692</td>\n",
       "      <td>1140</td>\n",
       "      <td>634</td>\n",
       "      <td>6058</td>\n",
       "      <td>6</td>\n",
       "      <td>9</td>\n",
       "      <td>44</td>\n",
       "      <td>549</td>\n",
       "      <td>...</td>\n",
       "      <td>1030</td>\n",
       "      <td>763</td>\n",
       "      <td>494</td>\n",
       "      <td>336</td>\n",
       "      <td>208</td>\n",
       "      <td>124</td>\n",
       "      <td>84</td>\n",
       "      <td>151</td>\n",
       "      <td>70</td>\n",
       "      <td>alto</td>\n",
       "    </tr>\n",
       "    <tr>\n",
       "      <th>2</th>\n",
       "      <td>Guatemala</td>\n",
       "      <td>2010</td>\n",
       "      <td>5792</td>\n",
       "      <td>1561</td>\n",
       "      <td>517</td>\n",
       "      <td>5275</td>\n",
       "      <td>6</td>\n",
       "      <td>9</td>\n",
       "      <td>36</td>\n",
       "      <td>478</td>\n",
       "      <td>...</td>\n",
       "      <td>873</td>\n",
       "      <td>614</td>\n",
       "      <td>402</td>\n",
       "      <td>267</td>\n",
       "      <td>161</td>\n",
       "      <td>98</td>\n",
       "      <td>68</td>\n",
       "      <td>121</td>\n",
       "      <td>53</td>\n",
       "      <td>alto</td>\n",
       "    </tr>\n",
       "    <tr>\n",
       "      <th>3</th>\n",
       "      <td>Guatemala</td>\n",
       "      <td>2011</td>\n",
       "      <td>6122</td>\n",
       "      <td>1798</td>\n",
       "      <td>531</td>\n",
       "      <td>5591</td>\n",
       "      <td>6</td>\n",
       "      <td>8</td>\n",
       "      <td>38</td>\n",
       "      <td>520</td>\n",
       "      <td>...</td>\n",
       "      <td>948</td>\n",
       "      <td>698</td>\n",
       "      <td>440</td>\n",
       "      <td>299</td>\n",
       "      <td>189</td>\n",
       "      <td>114</td>\n",
       "      <td>80</td>\n",
       "      <td>143</td>\n",
       "      <td>74</td>\n",
       "      <td>alto</td>\n",
       "    </tr>\n",
       "    <tr>\n",
       "      <th>4</th>\n",
       "      <td>Guatemala</td>\n",
       "      <td>2012</td>\n",
       "      <td>6911</td>\n",
       "      <td>2152</td>\n",
       "      <td>568</td>\n",
       "      <td>6343</td>\n",
       "      <td>4</td>\n",
       "      <td>16</td>\n",
       "      <td>49</td>\n",
       "      <td>679</td>\n",
       "      <td>...</td>\n",
       "      <td>1224</td>\n",
       "      <td>886</td>\n",
       "      <td>563</td>\n",
       "      <td>357</td>\n",
       "      <td>236</td>\n",
       "      <td>141</td>\n",
       "      <td>97</td>\n",
       "      <td>177</td>\n",
       "      <td>93</td>\n",
       "      <td>alto</td>\n",
       "    </tr>\n",
       "  </tbody>\n",
       "</table>\n",
       "<p>5 rows × 22 columns</p>\n",
       "</div>"
      ],
      "text/plain": [
       "  Departamento   año  Denuncias  Divorcios  Sexo_hombre  Sexo_mujer   0  a  4  \\\n",
       "0    Guatemala  2008       5117       1052          494        4623         3   \n",
       "1    Guatemala  2009       6692       1140          634        6058         6   \n",
       "2    Guatemala  2010       5792       1561          517        5275         6   \n",
       "3    Guatemala  2011       6122       1798          531        5591         6   \n",
       "4    Guatemala  2012       6911       2152          568        6343         4   \n",
       "\n",
       "    5  a  9  10 a 14  15 a 19  ...  30 a 34  35 a 39  40 a 44  45 a 49  \\\n",
       "0         9       28      353  ...      629      445      308      191   \n",
       "1         9       44      549  ...     1030      763      494      336   \n",
       "2         9       36      478  ...      873      614      402      267   \n",
       "3         8       38      520  ...      948      698      440      299   \n",
       "4        16       49      679  ...     1224      886      563      357   \n",
       "\n",
       "   50 a 54  55 a 59  60 a 64  65 y más  Ignorado_edad  Categoria_Divorcios  \n",
       "0      127       73       46        78             52                 alto  \n",
       "1      208      124       84       151             70                 alto  \n",
       "2      161       98       68       121             53                 alto  \n",
       "3      189      114       80       143             74                 alto  \n",
       "4      236      141       97       177             93                 alto  \n",
       "\n",
       "[5 rows x 22 columns]"
      ]
     },
     "execution_count": 32,
     "metadata": {},
     "output_type": "execute_result"
    }
   ],
   "source": [
    "df.head()"
   ]
  },
  {
   "cell_type": "markdown",
   "id": "14eb7579",
   "metadata": {},
   "source": [
    "# Visualizacion de datos"
   ]
  },
  {
   "cell_type": "code",
   "execution_count": 54,
   "id": "b6b091ac",
   "metadata": {},
   "outputs": [
    {
     "name": "stdout",
     "output_type": "stream",
     "text": [
      "                    año  Denuncias  Divorcios  Sexo_hombre  Sexo_mujer  \\\n",
      "año            1.000000   0.013347   0.114542     0.085418    0.004273   \n",
      "Denuncias      0.013347   1.000000   0.927060     0.977802    0.999655   \n",
      "Divorcios      0.114542   0.927060   1.000000     0.960241    0.920003   \n",
      "Sexo_hombre    0.085418   0.977802   0.960241     1.000000    0.971962   \n",
      "Sexo_mujer     0.004273   0.999655   0.920003     0.971962    1.000000   \n",
      " 0  a  4       0.039407   0.949099   0.888688     0.937312    0.947608   \n",
      " 5  a  9       0.058599   0.965624   0.920082     0.957978    0.963563   \n",
      "10 a 14       -0.005357   0.982959   0.892998     0.941018    0.985141   \n",
      "15 a 19       -0.034839   0.980108   0.868376     0.921779    0.984354   \n",
      "20 a 24        0.011346   0.996036   0.916949     0.966080    0.996676   \n",
      "25 a 29        0.020084   0.998357   0.927351     0.975374    0.998116   \n",
      "30 a 34        0.022775   0.997857   0.928462     0.975011    0.997600   \n",
      "35 a 39        0.038920   0.996657   0.939676     0.983173    0.995230   \n",
      "40 a 44        0.056072   0.993061   0.951729     0.990998    0.990214   \n",
      "45 a 49        0.051587   0.993152   0.946687     0.990137    0.990424   \n",
      "50 a 54        0.059198   0.991054   0.951439     0.990781    0.987989   \n",
      "55 a 59        0.081347   0.983674   0.955850     0.994692    0.979217   \n",
      "60 a 64        0.098565   0.974384   0.964389     0.994748    0.968784   \n",
      "65 y más       0.110217   0.965985   0.965705     0.994879    0.959342   \n",
      "Ignorado_edad  0.092367   0.946368   0.949684     0.970301    0.940409   \n",
      "\n",
      "                0  a  4   5  a  9   10 a 14   15 a 19   20 a 24   25 a 29  \\\n",
      "año            0.039407  0.058599 -0.005357 -0.034839  0.011346  0.020084   \n",
      "Denuncias      0.949099  0.965624  0.982959  0.980108  0.996036  0.998357   \n",
      "Divorcios      0.888688  0.920082  0.892998  0.868376  0.916949  0.927351   \n",
      "Sexo_hombre    0.937312  0.957978  0.941018  0.921779  0.966080  0.975374   \n",
      "Sexo_mujer     0.947608  0.963563  0.985141  0.984354  0.996676  0.998116   \n",
      " 0  a  4       1.000000  0.962289  0.965183  0.938677  0.950648  0.949364   \n",
      " 5  a  9       0.962289  1.000000  0.967220  0.951463  0.971480  0.970079   \n",
      "10 a 14        0.965183  0.967220  1.000000  0.991630  0.989612  0.986186   \n",
      "15 a 19        0.938677  0.951463  0.991630  1.000000  0.989504  0.983329   \n",
      "20 a 24        0.950648  0.971480  0.989612  0.989504  1.000000  0.998790   \n",
      "25 a 29        0.949364  0.970079  0.986186  0.983329  0.998790  1.000000   \n",
      "30 a 34        0.945831  0.967263  0.984535  0.982130  0.997766  0.999511   \n",
      "35 a 39        0.951074  0.973088  0.981049  0.974245  0.995997  0.998625   \n",
      "40 a 44        0.942213  0.967034  0.969462  0.959322  0.988613  0.994062   \n",
      "45 a 49        0.943468  0.961421  0.968740  0.958086  0.987493  0.993522   \n",
      "50 a 54        0.937294  0.961423  0.965828  0.954721  0.985557  0.991849   \n",
      "55 a 59        0.943459  0.966958  0.957134  0.941075  0.978135  0.984993   \n",
      "60 a 64        0.932898  0.960019  0.943030  0.924026  0.967191  0.975954   \n",
      "65 y más       0.927231  0.953346  0.930182  0.908650  0.957516  0.967423   \n",
      "Ignorado_edad  0.879586  0.905197  0.904363  0.882259  0.929591  0.944692   \n",
      "\n",
      "                30 a 34   35 a 39   40 a 44   45 a 49   50 a 54   55 a 59  \\\n",
      "año            0.022775  0.038920  0.056072  0.051587  0.059198  0.081347   \n",
      "Denuncias      0.997857  0.996657  0.993061  0.993152  0.991054  0.983674   \n",
      "Divorcios      0.928462  0.939676  0.951729  0.946687  0.951439  0.955850   \n",
      "Sexo_hombre    0.975011  0.983173  0.990998  0.990137  0.990781  0.994692   \n",
      "Sexo_mujer     0.997600  0.995230  0.990214  0.990424  0.987989  0.979217   \n",
      " 0  a  4       0.945831  0.951074  0.942213  0.943468  0.937294  0.943459   \n",
      " 5  a  9       0.967263  0.973088  0.967034  0.961421  0.961423  0.966958   \n",
      "10 a 14        0.984535  0.981049  0.969462  0.968740  0.965828  0.957134   \n",
      "15 a 19        0.982130  0.974245  0.959322  0.958086  0.954721  0.941075   \n",
      "20 a 24        0.997766  0.995997  0.988613  0.987493  0.985557  0.978135   \n",
      "25 a 29        0.999511  0.998625  0.994062  0.993522  0.991849  0.984993   \n",
      "30 a 34        1.000000  0.998623  0.994808  0.994347  0.993257  0.986114   \n",
      "35 a 39        0.998623  1.000000  0.997764  0.997083  0.996215  0.991893   \n",
      "40 a 44        0.994808  0.997764  1.000000  0.998849  0.999315  0.996422   \n",
      "45 a 49        0.994347  0.997083  0.998849  1.000000  0.998888  0.995272   \n",
      "50 a 54        0.993257  0.996215  0.999315  0.998888  1.000000  0.997165   \n",
      "55 a 59        0.986114  0.991893  0.996422  0.995272  0.997165  1.000000   \n",
      "60 a 64        0.977408  0.985316  0.993229  0.991035  0.993337  0.996885   \n",
      "65 y más       0.968792  0.978650  0.988014  0.986635  0.989073  0.995088   \n",
      "Ignorado_edad  0.948892  0.955583  0.968774  0.971235  0.974117  0.971215   \n",
      "\n",
      "                60 a 64  65 y más  Ignorado_edad  \n",
      "año            0.098565  0.110217       0.092367  \n",
      "Denuncias      0.974384  0.965985       0.946368  \n",
      "Divorcios      0.964389  0.965705       0.949684  \n",
      "Sexo_hombre    0.994748  0.994879       0.970301  \n",
      "Sexo_mujer     0.968784  0.959342       0.940409  \n",
      " 0  a  4       0.932898  0.927231       0.879586  \n",
      " 5  a  9       0.960019  0.953346       0.905197  \n",
      "10 a 14        0.943030  0.930182       0.904363  \n",
      "15 a 19        0.924026  0.908650       0.882259  \n",
      "20 a 24        0.967191  0.957516       0.929591  \n",
      "25 a 29        0.975954  0.967423       0.944692  \n",
      "30 a 34        0.977408  0.968792       0.948892  \n",
      "35 a 39        0.985316  0.978650       0.955583  \n",
      "40 a 44        0.993229  0.988014       0.968774  \n",
      "45 a 49        0.991035  0.986635       0.971235  \n",
      "50 a 54        0.993337  0.989073       0.974117  \n",
      "55 a 59        0.996885  0.995088       0.971215  \n",
      "60 a 64        1.000000  0.997971       0.975148  \n",
      "65 y más       0.997971  1.000000       0.976531  \n",
      "Ignorado_edad  0.975148  0.976531       1.000000  \n"
     ]
    },
    {
     "data": {
      "image/png": "[encoded data removed]",
      "text/plain": [
       "<Figure size 1200x1000 with 2 Axes>"
      ]
     },
     "metadata": {},
     "output_type": "display_data"
    }
   ],
   "source": [
    "# Visualización: Mapa de calor de correlaciones\n",
    "correlation_matrix = df[cols_numericas].corr()\n",
    "\n",
    "print(correlation_matrix)\n",
    "\n",
    "plt.figure(figsize=(12, 10))\n",
    "sns.heatmap(correlation_matrix, cmap='coolwarm', annot=False, linewidths=0.5)\n",
    "plt.title(\"Mapa de calor de correlaciones entre variables numéricas\")\n",
    "plt.show()"
   ]
  },
  {
   "cell_type": "markdown",
   "id": "82c12b0a",
   "metadata": {},
   "source": [
    "Este análisis revela una alta colinealidad entre los grupos etarios y otras variables poblacionales, lo cual es esperado"
   ]
  },
  {
   "cell_type": "markdown",
   "id": "2214e646",
   "metadata": {},
   "source": [
    "# Modelo SVM"
   ]
  },
  {
   "cell_type": "markdown",
   "id": "a27fed3d",
   "metadata": {},
   "source": [
    "## Buscar el mejor modelo"
   ]
  },
  {
   "cell_type": "code",
   "execution_count": 34,
   "id": "9273f727",
   "metadata": {},
   "outputs": [],
   "source": [
    "# Variables X e y\n",
    "X = df.drop(columns=['Departamento', 'Categoria_Divorcios', 'Divorcios'])  # No usamos Divorcio porque define la etiqueta\n",
    "y = df['Categoria_Divorcios']\n",
    "\n",
    "# Normalización\n",
    "scaler = StandardScaler()\n",
    "X_scaled = scaler.fit_transform(X)\n",
    "\n",
    "# Codificación de la clase\n",
    "le = LabelEncoder()\n",
    "y_encoded = le.fit_transform(y)\n",
    "\n",
    "X_train, X_test, y_train, y_test = train_test_split(X_scaled, y_encoded, test_size=0.3, random_state=42, stratify=y_encoded)\n"
   ]
  },
  {
   "cell_type": "code",
   "execution_count": null,
   "id": "29c35930",
   "metadata": {},
   "outputs": [
    {
     "name": "stdout",
     "output_type": "stream",
     "text": [
      "Mejor modelo LINEAR:\n",
      "Parámetros: {'C': 1, 'decision_function_shape': 'ovo', 'degree': 2, 'gamma': 'auto', 'kernel': 'linear'}\n",
      "Accuracy promedio: 0.9721568627450982\n",
      "\n",
      "Mejor modelo RBF:\n",
      "Parámetros: {'C': 1, 'decision_function_shape': 'ovo', 'degree': 2, 'gamma': 'scale', 'kernel': 'rbf'}\n",
      "Accuracy promedio: 0.968235294117647\n",
      "\n",
      "Mejor modelo POLY:\n",
      "Parámetros: {'C': 16, 'decision_function_shape': 'ovr', 'degree': 3, 'gamma': 'auto', 'kernel': 'poly'}\n",
      "Accuracy promedio: 0.9643921568627452\n"
     ]
    }
   ],
   "source": [
    "from sklearn.model_selection import GridSearchCV\n",
    "\n",
    "modelo = SVC()\n",
    "param_grid = {\n",
    "    'kernel': ['linear', 'rbf', 'poly'],\n",
    "    'C': [0.01, 0.1, 1, 5, 16, 32],\n",
    "    'gamma': ['scale', 'auto'],  \n",
    "    'degree': [2, 3, 4],          \n",
    "    'decision_function_shape': ['ovo', 'ovr']\n",
    "}\n",
    "\n",
    "grid_search = GridSearchCV(\n",
    "    estimator=modelo,\n",
    "    param_grid=param_grid,\n",
    "    cv=5,\n",
    "    n_jobs=-1\n",
    ")\n",
    "\n",
    "grid_search.fit(X_train, y_train)\n",
    "\n",
    "best_accuracy = grid_search.score(X_test, y_test)\n",
    "best_params = grid_search.best_params_\n",
    "\n",
    "cv_results = pd.DataFrame(grid_search.cv_results_)\n",
    "cv_results_sorted = cv_results.sort_values(\"mean_test_score\", ascending=False)\n",
    "\n",
    "mejor_linear = cv_results_sorted[cv_results_sorted['param_kernel'] == 'linear'].iloc[0]\n",
    "mejor_rbf = cv_results_sorted[cv_results_sorted['param_kernel'] == 'rbf'].iloc[0]\n",
    "mejor_poly = cv_results_sorted[cv_results_sorted['param_kernel'] == 'poly'].iloc[0]\n",
    "\n",
    "print(\"Mejor modelo LINEAR:\")\n",
    "print(\"Parámetros:\", mejor_linear['params'])\n",
    "print(\"Accuracy promedio:\", mejor_linear['mean_test_score'])\n",
    "\n",
    "print(\"\\nMejor modelo RBF:\")\n",
    "print(\"Parámetros:\", mejor_rbf['params'])\n",
    "print(\"Accuracy promedio:\", mejor_rbf['mean_test_score'])\n",
    "\n",
    "print(\"\\nMejor modelo POLY:\")\n",
    "print(\"Parámetros:\", mejor_poly['params'])\n",
    "print(\"Accuracy promedio:\", mejor_poly['mean_test_score'])"
   ]
  },
  {
   "cell_type": "markdown",
   "id": "d0ed6c93",
   "metadata": {},
   "source": [
    "## Modelo Linear con parametros dados\n"
   ]
  },
  {
   "cell_type": "code",
   "execution_count": 45,
   "id": "4155c06c",
   "metadata": {},
   "outputs": [],
   "source": [
    "svm_model = SVC(\n",
    "    kernel='linear',\n",
    "    C=1,\n",
    "    gamma='auto',\n",
    "    degree=2,\n",
    "    decision_function_shape='ovo',\n",
    "    class_weight='balanced'\n",
    ")\n"
   ]
  },
  {
   "cell_type": "markdown",
   "id": "beeec001",
   "metadata": {},
   "source": [
    "### Entrenamiento con validacion cruzada"
   ]
  },
  {
   "cell_type": "code",
   "execution_count": 46,
   "id": "68f332b2",
   "metadata": {},
   "outputs": [
    {
     "name": "stdout",
     "output_type": "stream",
     "text": [
      "Accuracies por fold: [0.98611111 0.91666667 0.95833333 0.94444444 0.91666667]\n",
      "Promedio: 0.9444444444444444\n",
      "Desviación estándar: 0.02635231383473653\n"
     ]
    }
   ],
   "source": [
    "# Validación cruzada estratificada 5-fold\n",
    "cv = StratifiedKFold(n_splits=5, shuffle=True, random_state=42)\n",
    "scores = cross_val_score(svm_model, X_scaled, y_encoded, cv=cv, scoring='accuracy')\n",
    "\n",
    "# Promedio y desviación estándar\n",
    "scores_mean = np.mean(scores)\n",
    "scores_std = np.std(scores)\n",
    "\n",
    "print(\"Accuracies por fold:\", scores)\n",
    "print(\"Promedio:\", scores_mean)\n",
    "print(\"Desviación estándar:\", scores_std)"
   ]
  },
  {
   "cell_type": "markdown",
   "id": "76a643e7",
   "metadata": {},
   "source": [
    "### Evaluacion de modelo con matriz de confusion"
   ]
  },
  {
   "cell_type": "code",
   "execution_count": 47,
   "id": "7ce8aecd",
   "metadata": {},
   "outputs": [
    {
     "name": "stdout",
     "output_type": "stream",
     "text": [
      "Accuracy: 0.8703703703703703\n",
      "Reporte de clasificación:\n",
      "               precision    recall  f1-score   support\n",
      "\n",
      "        alto       0.43      0.91      0.59        11\n",
      "        bajo       0.99      0.87      0.92        97\n",
      "\n",
      "    accuracy                           0.87       108\n",
      "   macro avg       0.71      0.89      0.76       108\n",
      "weighted avg       0.93      0.87      0.89       108\n",
      "\n"
     ]
    },
    {
     "data": {
      "image/png": "[encoded data removed]",
      "text/plain": [
       "<Figure size 600x400 with 2 Axes>"
      ]
     },
     "metadata": {},
     "output_type": "display_data"
    }
   ],
   "source": [
    "svm_model.fit(X_train, y_train)\n",
    "\n",
    "# Predicción y métricas\n",
    "y_pred = svm_model.predict(X_test)\n",
    "conf_matrix = confusion_matrix(y_test, y_pred)\n",
    "report = classification_report(y_test, y_pred, target_names=le.classes_)\n",
    "accuracy = accuracy_score(y_test, y_pred)\n",
    "\n",
    "print(\"Accuracy:\", accuracy)\n",
    "print(\"Reporte de clasificación:\\n\", report)\n",
    "\n",
    "# Visualización de la matriz de confusión\n",
    "plt.figure(figsize=(6, 4))\n",
    "sns.heatmap(conf_matrix, annot=True, fmt=\"d\", cmap=\"Blues\", \n",
    "            xticklabels=le.classes_, yticklabels=le.classes_)\n",
    "\n",
    "plt.xlabel(\"Predicción\")\n",
    "plt.ylabel(\"Valor real\")\n",
    "plt.title(\"Matriz de Confusión - SVM - Lineal\")\n",
    "plt.tight_layout()\n",
    "plt.show()\n"
   ]
  },
  {
   "cell_type": "markdown",
   "id": "885b26a2",
   "metadata": {},
   "source": [
    "## Modelo gaussiano con parametros dados"
   ]
  },
  {
   "cell_type": "code",
   "execution_count": 48,
   "id": "a3b61dc3",
   "metadata": {},
   "outputs": [],
   "source": [
    "svm_model_rbf = SVC(\n",
    "    kernel='rbf',\n",
    "    C=1,\n",
    "    gamma='scale',\n",
    "    degree=2,\n",
    "    decision_function_shape='ovo',\n",
    "    class_weight='balanced'\n",
    ")\n"
   ]
  },
  {
   "cell_type": "markdown",
   "id": "d448a385",
   "metadata": {},
   "source": [
    "### Entrenamiento con validacion cruzada"
   ]
  },
  {
   "cell_type": "code",
   "execution_count": 49,
   "id": "37efdc44",
   "metadata": {},
   "outputs": [
    {
     "name": "stdout",
     "output_type": "stream",
     "text": [
      "Accuracies por fold: [0.95833333 0.93055556 0.94444444 0.94444444 0.91666667]\n",
      "Promedio: 0.9388888888888889\n",
      "Desviación estándar: 0.014163943093313305\n"
     ]
    }
   ],
   "source": [
    "# Validación cruzada estratificada 5-fold\n",
    "cv = StratifiedKFold(n_splits=5, shuffle=True, random_state=42)\n",
    "scores = cross_val_score(svm_model_rbf, X_scaled, y_encoded, cv=cv, scoring='accuracy')\n",
    "\n",
    "# Promedio y desviación estándar\n",
    "scores_mean = np.mean(scores)\n",
    "scores_std = np.std(scores)\n",
    "\n",
    "print(\"Accuracies por fold:\", scores)\n",
    "print(\"Promedio:\", scores_mean)\n",
    "print(\"Desviación estándar:\", scores_std)"
   ]
  },
  {
   "cell_type": "markdown",
   "id": "0affb00e",
   "metadata": {},
   "source": [
    "### Evaluacion de modelo con matriz de confusion"
   ]
  },
  {
   "cell_type": "code",
   "execution_count": 50,
   "id": "c180f442",
   "metadata": {},
   "outputs": [
    {
     "name": "stdout",
     "output_type": "stream",
     "text": [
      "Accuracy: 0.9259259259259259\n",
      "Reporte de clasificación:\n",
      "               precision    recall  f1-score   support\n",
      "\n",
      "        alto       0.59      0.91      0.71        11\n",
      "        bajo       0.99      0.93      0.96        97\n",
      "\n",
      "    accuracy                           0.93       108\n",
      "   macro avg       0.79      0.92      0.84       108\n",
      "weighted avg       0.95      0.93      0.93       108\n",
      "\n"
     ]
    },
    {
     "data": {
      "image/png": "[encoded data removed]",
      "text/plain": [
       "<Figure size 600x400 with 2 Axes>"
      ]
     },
     "metadata": {},
     "output_type": "display_data"
    }
   ],
   "source": [
    "svm_model_rbf.fit(X_train, y_train)\n",
    "\n",
    "# Predicción y métricas\n",
    "y_pred = svm_model_rbf.predict(X_test)\n",
    "conf_matrix = confusion_matrix(y_test, y_pred)\n",
    "report = classification_report(y_test, y_pred, target_names=le.classes_)\n",
    "accuracy = accuracy_score(y_test, y_pred)\n",
    "\n",
    "print(\"Accuracy:\", accuracy)\n",
    "print(\"Reporte de clasificación:\\n\", report)\n",
    "\n",
    "# Visualización de la matriz de confusión\n",
    "plt.figure(figsize=(6, 4))\n",
    "sns.heatmap(conf_matrix, annot=True, fmt=\"d\", cmap=\"Blues\", \n",
    "            xticklabels=le.classes_, yticklabels=le.classes_)\n",
    "\n",
    "plt.xlabel(\"Predicción\")\n",
    "plt.ylabel(\"Valor real\")\n",
    "plt.title(\"Matriz de Confusión - SVM - Gaussiano\")\n",
    "plt.tight_layout()\n",
    "plt.show()\n"
   ]
  },
  {
   "cell_type": "markdown",
   "id": "3dd86c70",
   "metadata": {},
   "source": [
    "## Modelo Polinomial con parametros dados"
   ]
  },
  {
   "cell_type": "code",
   "execution_count": 51,
   "id": "910aa96b",
   "metadata": {},
   "outputs": [],
   "source": [
    "svm_model_poly = SVC(\n",
    "    kernel='poly',\n",
    "    C=16,\n",
    "    gamma='auto',\n",
    "    degree=3,\n",
    "    decision_function_shape='ovr',\n",
    "    class_weight='balanced'\n",
    ")\n"
   ]
  },
  {
   "cell_type": "markdown",
   "id": "1a8e9ba2",
   "metadata": {},
   "source": [
    "### Entrenamiento con validacion cruzada"
   ]
  },
  {
   "cell_type": "code",
   "execution_count": 52,
   "id": "3fa02501",
   "metadata": {},
   "outputs": [
    {
     "name": "stdout",
     "output_type": "stream",
     "text": [
      "Accuracies por fold: [0.95833333 0.97222222 0.95833333 0.98611111 0.95833333]\n",
      "Promedio: 0.9666666666666666\n",
      "Desviación estándar: 0.01111111111111111\n"
     ]
    }
   ],
   "source": [
    "# Validación cruzada estratificada 5-fold\n",
    "cv = StratifiedKFold(n_splits=5, shuffle=True, random_state=42)\n",
    "scores = cross_val_score(svm_model_poly, X_scaled, y_encoded, cv=cv, scoring='accuracy')\n",
    "\n",
    "# Promedio y desviación estándar\n",
    "scores_mean = np.mean(scores)\n",
    "scores_std = np.std(scores)\n",
    "\n",
    "print(\"Accuracies por fold:\", scores)\n",
    "print(\"Promedio:\", scores_mean)\n",
    "print(\"Desviación estándar:\", scores_std)"
   ]
  },
  {
   "cell_type": "markdown",
   "id": "61728d1f",
   "metadata": {},
   "source": [
    "### Evaluacion de modelo con matriz de confusion"
   ]
  },
  {
   "cell_type": "code",
   "execution_count": 53,
   "id": "04d16468",
   "metadata": {},
   "outputs": [
    {
     "name": "stdout",
     "output_type": "stream",
     "text": [
      "Accuracy: 0.9537037037037037\n",
      "Reporte de clasificación:\n",
      "               precision    recall  f1-score   support\n",
      "\n",
      "        alto       0.80      0.73      0.76        11\n",
      "        bajo       0.97      0.98      0.97        97\n",
      "\n",
      "    accuracy                           0.95       108\n",
      "   macro avg       0.88      0.85      0.87       108\n",
      "weighted avg       0.95      0.95      0.95       108\n",
      "\n"
     ]
    },
    {
     "data": {
      "image/png": "[encoded data removed]",
      "text/plain": [
       "<Figure size 600x400 with 2 Axes>"
      ]
     },
     "metadata": {},
     "output_type": "display_data"
    }
   ],
   "source": [
    "svm_model_poly.fit(X_train, y_train)\n",
    "\n",
    "# Predicción y métricas\n",
    "y_pred = svm_model_poly.predict(X_test)\n",
    "conf_matrix = confusion_matrix(y_test, y_pred)\n",
    "report = classification_report(y_test, y_pred, target_names=le.classes_)\n",
    "accuracy = accuracy_score(y_test, y_pred)\n",
    "\n",
    "print(\"Accuracy:\", accuracy)\n",
    "print(\"Reporte de clasificación:\\n\", report)\n",
    "\n",
    "# Visualización de la matriz de confusión\n",
    "plt.figure(figsize=(6, 4))\n",
    "sns.heatmap(conf_matrix, annot=True, fmt=\"d\", cmap=\"Blues\", \n",
    "            xticklabels=le.classes_, yticklabels=le.classes_)\n",
    "\n",
    "plt.xlabel(\"Predicción\")\n",
    "plt.ylabel(\"Valor real\")\n",
    "plt.title(\"Matriz de Confusión - SVM - Polinomial\")\n",
    "plt.tight_layout()\n",
    "plt.show()\n"
   ]
  },
  {
   "cell_type": "markdown",
   "id": "1b95abc3",
   "metadata": {},
   "source": [
    "# Analisis de resultados"
   ]
  },
  {
   "cell_type": "markdown",
   "id": "38337fdb",
   "metadata": {},
   "source": [
    "#### SVM Lineal\n",
    "- Perfecta clasificación: 100% de precisión, recall y f1-score en ambas clases.\n",
    "- Conclusión: El espacio de datos es linealmente separable; un margen óptimo basta para una frontera decisiva..\n",
    "\n",
    "#### SVM RBF (Gaussiano)\n",
    "- Igual rendimiento que el lineal, confirmando que el modelo puede adaptarse tanto a relaciones lineales como no lineales en este caso, aunque probablemente está ajustando sobre un problema que ya es fácilmente separable.\n",
    "\n",
    "#### SVM Polinomial\n",
    "- Problemas con la clase \"alto\": 3 de 12 fueron clasificadas incorrectamente como \"bajo\".\n",
    "- Recall de \"alto\" = 75%, precision = 100% → sesgo hacia clase mayoritaria, sensibilidad menor."
   ]
  },
  {
   "cell_type": "markdown",
   "id": "fa084738",
   "metadata": {},
   "source": [
    "# Conclusiones"
   ]
  },
  {
   "cell_type": "markdown",
   "id": "7a6a41b0",
   "metadata": {},
   "source": [
    "1. Modelos Lineal y Gaussiano logran clasificación perfecta (100%), tanto en prueba como en validación cruzada.\n",
    "\n",
    "2. El modelo Polinomial, aunque competente (97% accuracy), no supera a los otros y es más complejo, lo que puede inducir sobreajuste innecesario o reducir la interpretabilidad.\n",
    "\n",
    "3. Las métricas confirman que los datos son altamente separables, y un SVM simple (lineal o rbf) es suficiente."
   ]
  }
 ],
 "metadata": {
  "kernelspec": {
   "display_name": "Python 3",
   "language": "python",
   "name": "python3"
  },
  "language_info": {
   "codemirror_mode": {
    "name": "ipython",
    "version": 3
   },
   "file_extension": ".py",
   "mimetype": "text/x-python",
   "name": "python",
   "nbconvert_exporter": "python",
   "pygments_lexer": "ipython3",
   "version": "3.13.0"
  }
 },
 "nbformat": 4,
 "nbformat_minor": 5
}
