{
 "cells": [
  {
   "cell_type": "code",
   "execution_count": null,
   "id": "c29ab4e0",
   "metadata": {},
   "outputs": [],
   "source": [
    "import pandas as pd\n",
    "import numpy as np\n",
    "import matplotlib.pyplot as plt\n",
    "import seaborn as sns\n",
    "\n",
    "from sklearn.preprocessing import LabelEncoder, StandardScaler\n",
    "from sklearn.svm import LinearSVC\n",
    "from sklearn.model_selection import train_test_split, cross_val_score, StratifiedKFold\n",
    "from sklearn.svm import SVC\n",
    "from sklearn.metrics import classification_report, confusion_matrix, accuracy_score\n",
    "\n",
    "df = pd.read_csv('../../data/Accidentes_2013_2023.csv')\n",
    "\n",
    "# Reemplazar los NaN en 'fall_les' con la categoría 'Ignorado'\n",
    "df['fall_les'] = df['fall_les'].fillna('Ignorado')\n",
    "\n",
    "# Confirmar la nueva distribución de clases en la variable objetivo\n",
    "fall_les_distribution = df['fall_les'].value_counts(dropna=False)\n",
    "print(\"\\nDistribución de clases en 'fall_les' después de la limpieza:\\n\", fall_les_distribution)"
   ]
  },
  {
   "cell_type": "markdown",
   "id": "7bf21222",
   "metadata": {},
   "source": [
    "# Modelo de Regresión Lineal"
   ]
  },
  {
   "cell_type": "code",
   "execution_count": null,
   "id": "aaac9eae",
   "metadata": {},
   "outputs": [],
   "source": [
    "# Separar X e y\n",
    "X = df.drop(columns=['fall_les'])\n",
    "y = df['fall_les']\n",
    "\n",
    "# One-hot encoding de variables categóricas\n",
    "X_encoded = pd.get_dummies(X, drop_first=True)\n",
    "\n",
    "# Escalado\n",
    "scaler = StandardScaler()\n",
    "X_scaled = scaler.fit_transform(X_encoded)\n",
    "\n",
    "# Codificar clase objetivo\n",
    "le = LabelEncoder()\n",
    "y_encoded = le.fit_transform(y)\n",
    "\n",
    "# División en entrenamiento y prueba\n",
    "X_train, X_test, y_train, y_test = train_test_split(\n",
    "    X_scaled, y_encoded, test_size=0.3, stratify=y_encoded, random_state=42\n",
    ")\n"
   ]
  },
  {
   "cell_type": "code",
   "execution_count": null,
   "id": "3b396ea3",
   "metadata": {},
   "outputs": [],
   "source": [
    "from sklearn.linear_model import LogisticRegression\n",
    "\n",
    "# Entrenar el modelo de regresión logística\n",
    "log_reg = LogisticRegression(max_iter=1000, random_state=42)\n",
    "log_reg.fit(X_train, y_train)\n",
    "\n",
    "# Predecir sobre el conjunto de prueba\n",
    "y_pred = log_reg.predict(X_test)\n",
    "\n",
    "# Matriz de confusión\n",
    "conf_matrix = confusion_matrix(y_test, y_pred)\n",
    "print(\"Matriz de Confusión:\\n\", conf_matrix)\n",
    "\n",
    "# Informe de clasificación\n",
    "print(\"\\nInforme de Clasificación:\\n\", classification_report(y_test, y_pred, target_names=le.classes_))\n",
    "\n",
    "# Exactitud del modelo\n",
    "accuracy = accuracy_score(y_test, y_pred)\n",
    "print(\"\\nExactitud del modelo: {:.2f}%\".format(accuracy * 100))\n",
    "\n",
    "# Visualizar matriz de confusión\n",
    "plt.figure(figsize=(10, 6))\n",
    "sns.heatmap(conf_matrix, annot=True, fmt='d', cmap='Blues', xticklabels=le.classes_, yticklabels=le.classes_)\n",
    "plt.title(\"Matriz de Confusión\")\n",
    "plt.xlabel(\"Predicho\")\n",
    "plt.ylabel(\"Real\")\n",
    "plt.tight_layout()\n",
    "plt.show()\n"
   ]
  }
 ],
 "metadata": {
  "kernelspec": {
   "display_name": "Python 3",
   "language": "python",
   "name": "python3"
  },
  "language_info": {
   "name": "python",
   "version": "3.12.2"
  }
 },
 "nbformat": 4,
 "nbformat_minor": 5
}
