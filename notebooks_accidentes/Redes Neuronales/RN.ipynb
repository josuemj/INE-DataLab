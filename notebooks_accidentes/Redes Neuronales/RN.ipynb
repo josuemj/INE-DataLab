{
 "cells": [
  {
   "cell_type": "code",
   "execution_count": 7,
   "id": "db04aab6",
   "metadata": {},
   "outputs": [
    {
     "data": {
      "text/html": [
       "<div>\n",
       "<style scoped>\n",
       "    .dataframe tbody tr th:only-of-type {\n",
       "        vertical-align: middle;\n",
       "    }\n",
       "\n",
       "    .dataframe tbody tr th {\n",
       "        vertical-align: top;\n",
       "    }\n",
       "\n",
       "    .dataframe thead th {\n",
       "        text-align: right;\n",
       "    }\n",
       "</style>\n",
       "<table border=\"1\" class=\"dataframe\">\n",
       "  <thead>\n",
       "    <tr style=\"text-align: right;\">\n",
       "      <th></th>\n",
       "      <th>año</th>\n",
       "      <th>fall_les</th>\n",
       "      <th>tipo_veh</th>\n",
       "      <th>modelo_veh</th>\n",
       "      <th>g_modelo_veh</th>\n",
       "      <th>marca</th>\n",
       "      <th>color</th>\n",
       "      <th>hora_ocu_fall</th>\n",
       "      <th>g_hora_fall</th>\n",
       "      <th>g_hora_5_fall</th>\n",
       "      <th>día_sem_ocu_fall</th>\n",
       "      <th>mes_ocu_fall</th>\n",
       "      <th>causa_acc</th>\n",
       "    </tr>\n",
       "  </thead>\n",
       "  <tbody>\n",
       "    <tr>\n",
       "      <th>0</th>\n",
       "      <td>2013</td>\n",
       "      <td>Lesionado</td>\n",
       "      <td>Automóvil</td>\n",
       "      <td>2010-2019</td>\n",
       "      <td>ignorado</td>\n",
       "      <td>Avanti</td>\n",
       "      <td>Blanco</td>\n",
       "      <td>5</td>\n",
       "      <td>00:00 a 05:59</td>\n",
       "      <td>ignorado</td>\n",
       "      <td>Martes</td>\n",
       "      <td>Enero</td>\n",
       "      <td>Choque</td>\n",
       "    </tr>\n",
       "    <tr>\n",
       "      <th>1</th>\n",
       "      <td>2013</td>\n",
       "      <td>Lesionado</td>\n",
       "      <td>Automóvil</td>\n",
       "      <td>2010-2019</td>\n",
       "      <td>ignorado</td>\n",
       "      <td>Avanti</td>\n",
       "      <td>Blanco</td>\n",
       "      <td>5</td>\n",
       "      <td>00:00 a 05:59</td>\n",
       "      <td>ignorado</td>\n",
       "      <td>Martes</td>\n",
       "      <td>Enero</td>\n",
       "      <td>Choque</td>\n",
       "    </tr>\n",
       "    <tr>\n",
       "      <th>2</th>\n",
       "      <td>2013</td>\n",
       "      <td>Lesionado</td>\n",
       "      <td>Automóvil</td>\n",
       "      <td>2010-2019</td>\n",
       "      <td>ignorado</td>\n",
       "      <td>Avanti</td>\n",
       "      <td>Blanco</td>\n",
       "      <td>5</td>\n",
       "      <td>00:00 a 05:59</td>\n",
       "      <td>ignorado</td>\n",
       "      <td>Martes</td>\n",
       "      <td>Enero</td>\n",
       "      <td>Choque</td>\n",
       "    </tr>\n",
       "    <tr>\n",
       "      <th>3</th>\n",
       "      <td>2013</td>\n",
       "      <td>Fallecido</td>\n",
       "      <td>Motocicleta</td>\n",
       "      <td>2010-2019</td>\n",
       "      <td>ignorado</td>\n",
       "      <td>Great Wall</td>\n",
       "      <td>Rojo</td>\n",
       "      <td>Ignorado</td>\n",
       "      <td>00:00 a 05:59</td>\n",
       "      <td>ignorado</td>\n",
       "      <td>Martes</td>\n",
       "      <td>Enero</td>\n",
       "      <td>Choque</td>\n",
       "    </tr>\n",
       "    <tr>\n",
       "      <th>4</th>\n",
       "      <td>2013</td>\n",
       "      <td>Lesionado</td>\n",
       "      <td>Motocicleta</td>\n",
       "      <td>2010-2019</td>\n",
       "      <td>ignorado</td>\n",
       "      <td>Great Wall</td>\n",
       "      <td>Rojo</td>\n",
       "      <td>Ignorado</td>\n",
       "      <td>00:00 a 05:59</td>\n",
       "      <td>ignorado</td>\n",
       "      <td>Martes</td>\n",
       "      <td>Enero</td>\n",
       "      <td>Choque</td>\n",
       "    </tr>\n",
       "    <tr>\n",
       "      <th>...</th>\n",
       "      <td>...</td>\n",
       "      <td>...</td>\n",
       "      <td>...</td>\n",
       "      <td>...</td>\n",
       "      <td>...</td>\n",
       "      <td>...</td>\n",
       "      <td>...</td>\n",
       "      <td>...</td>\n",
       "      <td>...</td>\n",
       "      <td>...</td>\n",
       "      <td>...</td>\n",
       "      <td>...</td>\n",
       "      <td>...</td>\n",
       "    </tr>\n",
       "    <tr>\n",
       "      <th>99510</th>\n",
       "      <td>2020</td>\n",
       "      <td>Lesionado</td>\n",
       "      <td>Motocicleta</td>\n",
       "      <td>Ignorado</td>\n",
       "      <td>Ignorado</td>\n",
       "      <td>TVS Apache</td>\n",
       "      <td>Negro</td>\n",
       "      <td>13</td>\n",
       "      <td>12:00 a 17:59</td>\n",
       "      <td>Tarde</td>\n",
       "      <td>Jueves</td>\n",
       "      <td>Diciembre</td>\n",
       "      <td>Atropello</td>\n",
       "    </tr>\n",
       "    <tr>\n",
       "      <th>99511</th>\n",
       "      <td>2020</td>\n",
       "      <td>Lesionado</td>\n",
       "      <td>Motocicleta</td>\n",
       "      <td>Ignorado</td>\n",
       "      <td>Ignorado</td>\n",
       "      <td>TVS Apache</td>\n",
       "      <td>Negro</td>\n",
       "      <td>13</td>\n",
       "      <td>12:00 a 17:59</td>\n",
       "      <td>Tarde</td>\n",
       "      <td>Jueves</td>\n",
       "      <td>Diciembre</td>\n",
       "      <td>Atropello</td>\n",
       "    </tr>\n",
       "    <tr>\n",
       "      <th>99512</th>\n",
       "      <td>2020</td>\n",
       "      <td>Lesionado</td>\n",
       "      <td>Motocicleta</td>\n",
       "      <td>Ignorado</td>\n",
       "      <td>Ignorado</td>\n",
       "      <td>TVS Apache</td>\n",
       "      <td>Negro</td>\n",
       "      <td>13</td>\n",
       "      <td>12:00 a 17:59</td>\n",
       "      <td>Tarde</td>\n",
       "      <td>Jueves</td>\n",
       "      <td>Diciembre</td>\n",
       "      <td>Atropello</td>\n",
       "    </tr>\n",
       "    <tr>\n",
       "      <th>99513</th>\n",
       "      <td>2020</td>\n",
       "      <td>Fallecido</td>\n",
       "      <td>Motocicleta</td>\n",
       "      <td>2019</td>\n",
       "      <td>2010-2019</td>\n",
       "      <td>MRT</td>\n",
       "      <td>Rojo</td>\n",
       "      <td>18</td>\n",
       "      <td>18:00 a 23:59</td>\n",
       "      <td>Noche</td>\n",
       "      <td>Jueves</td>\n",
       "      <td>Diciembre</td>\n",
       "      <td>Atropello</td>\n",
       "    </tr>\n",
       "    <tr>\n",
       "      <th>99514</th>\n",
       "      <td>2020</td>\n",
       "      <td>Lesionado</td>\n",
       "      <td>Motocicleta</td>\n",
       "      <td>2013</td>\n",
       "      <td>2010-2019</td>\n",
       "      <td>Honda</td>\n",
       "      <td>Rojo</td>\n",
       "      <td>21</td>\n",
       "      <td>18:00 a 23:59</td>\n",
       "      <td>Noche</td>\n",
       "      <td>Jueves</td>\n",
       "      <td>Diciembre</td>\n",
       "      <td>Atropello</td>\n",
       "    </tr>\n",
       "  </tbody>\n",
       "</table>\n",
       "<p>99515 rows × 13 columns</p>\n",
       "</div>"
      ],
      "text/plain": [
       "        año   fall_les     tipo_veh modelo_veh  g_modelo_veh       marca  \\\n",
       "0      2013  Lesionado    Automóvil  2010-2019      ignorado      Avanti   \n",
       "1      2013  Lesionado    Automóvil  2010-2019      ignorado      Avanti   \n",
       "2      2013  Lesionado    Automóvil  2010-2019      ignorado      Avanti   \n",
       "3      2013  Fallecido  Motocicleta  2010-2019      ignorado  Great Wall   \n",
       "4      2013  Lesionado  Motocicleta  2010-2019      ignorado  Great Wall   \n",
       "...     ...        ...          ...        ...           ...         ...   \n",
       "99510  2020  Lesionado  Motocicleta   Ignorado      Ignorado  TVS Apache   \n",
       "99511  2020  Lesionado  Motocicleta   Ignorado      Ignorado  TVS Apache   \n",
       "99512  2020  Lesionado  Motocicleta   Ignorado      Ignorado  TVS Apache   \n",
       "99513  2020  Fallecido  Motocicleta       2019     2010-2019         MRT   \n",
       "99514  2020  Lesionado  Motocicleta       2013     2010-2019       Honda   \n",
       "\n",
       "        color hora_ocu_fall    g_hora_fall g_hora_5_fall día_sem_ocu_fall  \\\n",
       "0      Blanco             5  00:00 a 05:59      ignorado           Martes   \n",
       "1      Blanco             5  00:00 a 05:59      ignorado           Martes   \n",
       "2      Blanco             5  00:00 a 05:59      ignorado           Martes   \n",
       "3        Rojo      Ignorado  00:00 a 05:59      ignorado           Martes   \n",
       "4        Rojo      Ignorado  00:00 a 05:59      ignorado           Martes   \n",
       "...       ...           ...            ...           ...              ...   \n",
       "99510   Negro            13  12:00 a 17:59         Tarde           Jueves   \n",
       "99511   Negro            13  12:00 a 17:59         Tarde           Jueves   \n",
       "99512   Negro            13  12:00 a 17:59         Tarde           Jueves   \n",
       "99513    Rojo            18  18:00 a 23:59         Noche           Jueves   \n",
       "99514    Rojo            21  18:00 a 23:59         Noche           Jueves   \n",
       "\n",
       "      mes_ocu_fall  causa_acc  \n",
       "0            Enero     Choque  \n",
       "1            Enero     Choque  \n",
       "2            Enero     Choque  \n",
       "3            Enero     Choque  \n",
       "4            Enero     Choque  \n",
       "...            ...        ...  \n",
       "99510    Diciembre  Atropello  \n",
       "99511    Diciembre  Atropello  \n",
       "99512    Diciembre  Atropello  \n",
       "99513    Diciembre  Atropello  \n",
       "99514    Diciembre  Atropello  \n",
       "\n",
       "[99515 rows x 13 columns]"
      ]
     },
     "execution_count": 7,
     "metadata": {},
     "output_type": "execute_result"
    }
   ],
   "source": [
    "%matplotlib inline\n",
    "import matplotlib.pyplot as plt\n",
    "from sklearn.pipeline import Pipeline\n",
    "import numpy as np\n",
    "import random\n",
    "import statsmodels.api as sm\n",
    "import statsmodels.stats.diagnostic as smd\n",
    "import pandas as pd\n",
    "from sklearn import datasets\n",
    "from sklearn.model_selection import train_test_split\n",
    "import seaborn as sns\n",
    "import statsmodels.api as sm\n",
    "import scipy.stats as stats\n",
    "import statsmodels.stats.diagnostic as diag\n",
    "from sklearn.preprocessing import StandardScaler\n",
    "from sklearn.neural_network import MLPClassifier\n",
    "\n",
    "from sklearn.compose import make_column_selector as selector #Para seleccionar de forma automática las variables numéricas y categóricas\n",
    "from sklearn.preprocessing import OneHotEncoder #Para codificar las variables categóricas usando dummies\n",
    "from sklearn.preprocessing import StandardScaler #Para normalizar las variables numéricas\n",
    "from sklearn.compose import ColumnTransformer #Modifica las columnas usando los preprocesadores\n",
    "from sklearn.pipeline import make_pipeline #Planifica una secuencia de procesos\n",
    "from sklearn import set_config #Para mostrar graficamente el pipeline\n",
    "from sklearn.model_selection import GridSearchCV\n",
    "\n",
    "set_config(display='diagram')\n",
    "#Metrics\n",
    "from sklearn.metrics import make_scorer, accuracy_score,precision_score\n",
    "from sklearn.metrics import classification_report\n",
    "from sklearn.metrics import confusion_matrix\n",
    "from sklearn.metrics import accuracy_score ,precision_score,recall_score,f1_score\n",
    "\n",
    "df = pd.read_csv('../../data/Accidentes_2013_2023.csv')\n",
    "df"
   ]
  },
  {
   "cell_type": "markdown",
   "id": "c6811760",
   "metadata": {},
   "source": [
    "# Limpieza de datos"
   ]
  },
  {
   "cell_type": "code",
   "execution_count": 8,
   "id": "e5f37fce",
   "metadata": {},
   "outputs": [
    {
     "name": "stdout",
     "output_type": "stream",
     "text": [
      "Valores faltantes por columna después de reemplazar:\n",
      "año                 0\n",
      "fall_les            0\n",
      "tipo_veh            0\n",
      "modelo_veh          0\n",
      " g_modelo_veh       0\n",
      "marca               0\n",
      "color               0\n",
      "hora_ocu_fall       0\n",
      "g_hora_fall         0\n",
      "g_hora_5_fall       0\n",
      "día_sem_ocu_fall    0\n",
      "mes_ocu_fall        0\n",
      "causa_acc           0\n",
      "dtype: int64\n",
      "\n",
      "Distribución de clases en 'fall_les':\n",
      "fall_les\n",
      "Lesionado    64038\n",
      "Ignorado     22566\n",
      "Fallecido    12911\n",
      "Name: count, dtype: int64\n"
     ]
    }
   ],
   "source": [
    "# Reemplazar NaN por 'Ignorado' en la columna 'fall_les'\n",
    "df['fall_les'] = df['fall_les'].fillna('Ignorado')\n",
    "\n",
    "# Confirmar que ya no hay NaNs\n",
    "print(\"Valores faltantes por columna después de reemplazar:\")\n",
    "print(df.isna().sum())\n",
    "\n",
    "print(\"\\nDistribución de clases en 'fall_les':\")\n",
    "print(df['fall_les'].value_counts())"
   ]
  },
  {
   "cell_type": "code",
   "execution_count": 9,
   "id": "52e6e23a",
   "metadata": {},
   "outputs": [
    {
     "name": "stdout",
     "output_type": "stream",
     "text": [
      "0        Lesionado\n",
      "1        Lesionado\n",
      "2        Lesionado\n",
      "3        Fallecido\n",
      "4        Lesionado\n",
      "           ...    \n",
      "99510    Lesionado\n",
      "99511    Lesionado\n",
      "99512    Lesionado\n",
      "99513    Fallecido\n",
      "99514    Lesionado\n",
      "Name: fall_les, Length: 99515, dtype: object\n",
      "    año     tipo_veh modelo_veh  g_modelo_veh       marca   color  \\\n",
      "0  2013    Automóvil  2010-2019      ignorado      Avanti  Blanco   \n",
      "1  2013    Automóvil  2010-2019      ignorado      Avanti  Blanco   \n",
      "2  2013    Automóvil  2010-2019      ignorado      Avanti  Blanco   \n",
      "3  2013  Motocicleta  2010-2019      ignorado  Great Wall    Rojo   \n",
      "4  2013  Motocicleta  2010-2019      ignorado  Great Wall    Rojo   \n",
      "\n",
      "  hora_ocu_fall    g_hora_fall g_hora_5_fall día_sem_ocu_fall mes_ocu_fall  \\\n",
      "0             5  00:00 a 05:59      ignorado           Martes        Enero   \n",
      "1             5  00:00 a 05:59      ignorado           Martes        Enero   \n",
      "2             5  00:00 a 05:59      ignorado           Martes        Enero   \n",
      "3      Ignorado  00:00 a 05:59      ignorado           Martes        Enero   \n",
      "4      Ignorado  00:00 a 05:59      ignorado           Martes        Enero   \n",
      "\n",
      "  causa_acc  \n",
      "0    Choque  \n",
      "1    Choque  \n",
      "2    Choque  \n",
      "3    Choque  \n",
      "4    Choque  \n"
     ]
    }
   ],
   "source": [
    "y = df.pop(\"fall_les\")\n",
    "\n",
    "print(y)\n",
    "print(df.head())"
   ]
  },
  {
   "cell_type": "markdown",
   "id": "0ecc2c67",
   "metadata": {},
   "source": [
    "# Entrenamiento y Pruebas"
   ]
  },
  {
   "cell_type": "code",
   "execution_count": 10,
   "id": "c079f866",
   "metadata": {},
   "outputs": [],
   "source": [
    "X = df #El resto de los datos\n",
    "\n",
    "# Separar variables categóricas y numéricas\n",
    "cat_cols = X.select_dtypes(include='object').columns.tolist()\n",
    "num_cols = X.select_dtypes(exclude='object').columns.tolist()\n",
    "\n",
    "random.seed(123)"
   ]
  },
  {
   "cell_type": "code",
   "execution_count": 11,
   "id": "2381e155",
   "metadata": {},
   "outputs": [],
   "source": [
    "X_train, X_test, y_train, y_test = train_test_split(X, y, test_size=0.3, stratify=y, random_state=42)"
   ]
  },
  {
   "cell_type": "code",
   "execution_count": 12,
   "id": "ffaaa6b7",
   "metadata": {},
   "outputs": [
    {
     "name": "stdout",
     "output_type": "stream",
     "text": [
      "<class 'pandas.core.frame.DataFrame'>\n",
      "Index: 69660 entries, 83086 to 5207\n",
      "Data columns (total 12 columns):\n",
      " #   Column            Non-Null Count  Dtype \n",
      "---  ------            --------------  ----- \n",
      " 0   año               69660 non-null  int64 \n",
      " 1   tipo_veh          69660 non-null  object\n",
      " 2   modelo_veh        69660 non-null  object\n",
      " 3    g_modelo_veh     69660 non-null  object\n",
      " 4   marca             69660 non-null  object\n",
      " 5   color             69660 non-null  object\n",
      " 6   hora_ocu_fall     69660 non-null  object\n",
      " 7   g_hora_fall       69660 non-null  object\n",
      " 8   g_hora_5_fall     69660 non-null  object\n",
      " 9   día_sem_ocu_fall  69660 non-null  object\n",
      " 10  mes_ocu_fall      69660 non-null  object\n",
      " 11  causa_acc         69660 non-null  object\n",
      "dtypes: int64(1), object(11)\n",
      "memory usage: 6.9+ MB\n"
     ]
    }
   ],
   "source": [
    "X_train.info()"
   ]
  },
  {
   "cell_type": "code",
   "execution_count": 13,
   "id": "98bf2f1b",
   "metadata": {},
   "outputs": [
    {
     "name": "stdout",
     "output_type": "stream",
     "text": [
      "<class 'pandas.core.frame.DataFrame'>\n",
      "Index: 29855 entries, 93586 to 81498\n",
      "Data columns (total 12 columns):\n",
      " #   Column            Non-Null Count  Dtype \n",
      "---  ------            --------------  ----- \n",
      " 0   año               29855 non-null  int64 \n",
      " 1   tipo_veh          29855 non-null  object\n",
      " 2   modelo_veh        29855 non-null  object\n",
      " 3    g_modelo_veh     29855 non-null  object\n",
      " 4   marca             29855 non-null  object\n",
      " 5   color             29855 non-null  object\n",
      " 6   hora_ocu_fall     29855 non-null  object\n",
      " 7   g_hora_fall       29855 non-null  object\n",
      " 8   g_hora_5_fall     29855 non-null  object\n",
      " 9   día_sem_ocu_fall  29855 non-null  object\n",
      " 10  mes_ocu_fall      29855 non-null  object\n",
      " 11  causa_acc         29855 non-null  object\n",
      "dtypes: int64(1), object(11)\n",
      "memory usage: 3.0+ MB\n"
     ]
    }
   ],
   "source": [
    "X_test.info()"
   ]
  },
  {
   "cell_type": "markdown",
   "id": "a811fdbd",
   "metadata": {},
   "source": [
    "# Buscar mejores parametros para las redes neuronales"
   ]
  },
  {
   "cell_type": "code",
   "execution_count": 14,
   "id": "a3a36b13",
   "metadata": {},
   "outputs": [
    {
     "name": "stdout",
     "output_type": "stream",
     "text": [
      "Fitting 10 folds for each of 27 candidates, totalling 270 fits\n",
      "Mejores parámetros: {'mlpclassifier__hidden_layer_sizes': (5, 3), 'mlpclassifier__learning_rate_init': 0.01, 'mlpclassifier__max_iter': 100}\n"
     ]
    }
   ],
   "source": [
    "# 3. Preprocesamiento\n",
    "preprocessor = ColumnTransformer([\n",
    "    ('num', StandardScaler(), num_cols),\n",
    "    ('cat', OneHotEncoder(handle_unknown='ignore'), cat_cols)\n",
    "])\n",
    "\n",
    "# 4. Pipeline\n",
    "pipeline = Pipeline([\n",
    "    ('preprocessor', preprocessor),\n",
    "    ('mlpclassifier', MLPClassifier())\n",
    "])\n",
    "\n",
    "# 5. Grid de parámetros\n",
    "parametros_tun = {\n",
    "    'mlpclassifier__max_iter': [100, 200, 500],\n",
    "    'mlpclassifier__learning_rate_init': [0.01, 0.1, 1],\n",
    "    'mlpclassifier__hidden_layer_sizes': [(3, 2), (5, 3), (10, 2)]\n",
    "}\n",
    "\n",
    "# 6. GridSearchCV\n",
    "model_grid_search = GridSearchCV(pipeline, param_grid=parametros_tun, n_jobs=2, cv=10, verbose=1)\n",
    "model_grid_search.fit(X_train, y_train)\n",
    "\n",
    "# 7. Mejor modelo y predicciones\n",
    "print(\"Mejores parámetros:\", model_grid_search.best_params_)\n",
    "y_pred = model_grid_search.predict(X_test)"
   ]
  },
  {
   "cell_type": "markdown",
   "id": "5e468280",
   "metadata": {},
   "source": [
    "## Validacion cruzada"
   ]
  },
  {
   "cell_type": "code",
   "execution_count": 15,
   "id": "08091c47",
   "metadata": {},
   "outputs": [
    {
     "name": "stderr",
     "output_type": "stream",
     "text": [
      "c:\\Users\\thiag\\AppData\\Local\\Programs\\Python\\Python313\\Lib\\site-packages\\sklearn\\neural_network\\_multilayer_perceptron.py:691: ConvergenceWarning: Stochastic Optimizer: Maximum iterations (100) reached and the optimization hasn't converged yet.\n",
      "  warnings.warn(\n"
     ]
    },
    {
     "name": "stdout",
     "output_type": "stream",
     "text": [
      "\n",
      "Validación cruzada (10-fold):\n",
      "Accuracy promedio: 0.886258230037796\n",
      "Precision promedio: 0.886258230037796\n",
      "Recall promedio: 0.886258230037796\n",
      "F1-score promedio: 0.886258230037796\n"
     ]
    }
   ],
   "source": [
    "from sklearn.model_selection import cross_validate, StratifiedKFold\n",
    "\n",
    "# Validación cruzada sobre el mejor modelo\n",
    "best_model = model_grid_search.best_estimator_\n",
    "\n",
    "cv = StratifiedKFold(n_splits=10, shuffle=True, random_state=42)\n",
    "scoring = {\n",
    "    'accuracy': make_scorer(accuracy_score),\n",
    "    'precision': make_scorer(precision_score, average='micro'),\n",
    "    'recall': make_scorer(recall_score, average='micro'),\n",
    "    'f1': make_scorer(f1_score, average='micro')\n",
    "}\n",
    "\n",
    "cv_results = cross_validate(best_model, X, y, cv=cv, scoring=scoring)\n",
    "\n",
    "print(\"\\nValidación cruzada (10-fold):\")\n",
    "print(\"Accuracy promedio:\", np.mean(cv_results['test_accuracy']))\n",
    "print(\"Precision promedio:\", np.mean(cv_results['test_precision']))\n",
    "print(\"Recall promedio:\", np.mean(cv_results['test_recall']))\n",
    "print(\"F1-score promedio:\", np.mean(cv_results['test_f1']))"
   ]
  },
  {
   "cell_type": "markdown",
   "id": "d6457e96",
   "metadata": {},
   "source": [
    "## Entrenarlo"
   ]
  },
  {
   "cell_type": "code",
   "execution_count": 16,
   "id": "3192fd3e",
   "metadata": {},
   "outputs": [
    {
     "name": "stdout",
     "output_type": "stream",
     "text": [
      "['Lesionado' 'Lesionado' 'Ignorado' ... 'Lesionado' 'Lesionado' 'Ignorado']\n"
     ]
    }
   ],
   "source": [
    "y_pred = best_model.predict(X_test)\n",
    "print(y_pred)"
   ]
  },
  {
   "cell_type": "markdown",
   "id": "3f5cb0f6",
   "metadata": {},
   "source": [
    "# Curva de perdida"
   ]
  },
  {
   "cell_type": "code",
   "execution_count": 17,
   "id": "d3d34b67",
   "metadata": {},
   "outputs": [
    {
     "data": {
      "image/png": "[encoded data removed]",
      "text/plain": [
       "<Figure size 640x480 with 1 Axes>"
      ]
     },
     "metadata": {},
     "output_type": "display_data"
    }
   ],
   "source": [
    "plt.plot(best_model.named_steps['mlpclassifier'].loss_curve_)\n",
    "plt.title('Evolución de la pérdida durante el entrenamiento')\n",
    "plt.xlabel('Iteraciones')\n",
    "plt.ylabel('Pérdida')\n",
    "plt.grid()\n",
    "plt.show()"
   ]
  },
  {
   "cell_type": "markdown",
   "id": "f7fef7ce",
   "metadata": {},
   "source": [
    "# Matriz de confusion"
   ]
  },
  {
   "cell_type": "code",
   "execution_count": 18,
   "id": "af251b31",
   "metadata": {},
   "outputs": [
    {
     "name": "stdout",
     "output_type": "stream",
     "text": [
      "Accuracy:  0.8878914754647462\n",
      "Precision:  0.8878914754647462\n",
      "recall:  0.8878914754647462\n",
      "F1-score: 0.8878914754647462\n"
     ]
    },
    {
     "data": {
      "image/png": "[encoded data removed]",
      "text/plain": [
       "<Figure size 600x400 with 2 Axes>"
      ]
     },
     "metadata": {},
     "output_type": "display_data"
    }
   ],
   "source": [
    "cm = confusion_matrix(y_test,y_pred)\n",
    "accuracy=accuracy_score(y_test,y_pred)\n",
    "precision =precision_score(y_test, y_pred,average='micro')\n",
    "recall =  recall_score(y_test, y_pred,average='micro')\n",
    "f1 = f1_score(y_test,y_pred,average='micro')\n",
    "print('Accuracy: ',accuracy)\n",
    "print('Precision: ', precision)\n",
    "print('recall: ',recall)\n",
    "print('F1-score:', f1)\n",
    "\n",
    "labels = best_model.classes_  # Obtiene los nombres de las clases desde el modelo\n",
    "\n",
    "plt.figure(figsize=(6, 4))\n",
    "sns.heatmap(cm, annot=True, fmt='d', cmap='Blues', xticklabels=labels, yticklabels=labels)\n",
    "plt.title('Matriz de Confusión')\n",
    "plt.xlabel('Etiqueta Predicha')\n",
    "plt.ylabel('Etiqueta Real')\n",
    "plt.tight_layout()\n",
    "plt.show()"
   ]
  }
 ],
 "metadata": {
  "kernelspec": {
   "display_name": "Python 3",
   "language": "python",
   "name": "python3"
  },
  "language_info": {
   "codemirror_mode": {
    "name": "ipython",
    "version": 3
   },
   "file_extension": ".py",
   "mimetype": "text/x-python",
   "name": "python",
   "nbconvert_exporter": "python",
   "pygments_lexer": "ipython3",
   "version": "3.13.0"
  }
 },
 "nbformat": 4,
 "nbformat_minor": 5
}
